{
 "cells": [
  {
   "cell_type": "markdown",
   "id": "0af08dc3-27cb-46d1-b62e-c68d09f2c321",
   "metadata": {},
   "source": [
    "# Develop: Guidestar selection WALOP-N"
   ]
  },
  {
   "cell_type": "code",
   "execution_count": 1,
   "id": "59a7838f-4aa4-4d3c-9d55-a130b4cd5210",
   "metadata": {},
   "outputs": [],
   "source": [
    "%load_ext autoreload\n",
    "%autoreload 2"
   ]
  },
  {
   "cell_type": "code",
   "execution_count": 2,
   "id": "17d3a3b3-7d97-423a-8f93-dd00d073a40b",
   "metadata": {},
   "outputs": [],
   "source": [
    "from astropy.coordinates import Angle, SkyCoord\n",
    "import astropy.units as u\n",
    "from astropy.io.votable import parse\n",
    "import matplotlib.pyplot as plt\n",
    "import numpy as np\n",
    "import os\n",
    "from pandas import DataFrame\n",
    "#import seaborn as sns\n",
    "\n",
    "from fieldgrid import FieldGridIsoLat\n",
    "from utilities import cart_to_sphere, sphere_to_cart, rot_dec, rot_ra, rotate_frame"
   ]
  },
  {
   "cell_type": "markdown",
   "id": "644a0bfd-68ea-47da-b15e-c745b09f97d5",
   "metadata": {},
   "source": [
    "Helper functions:"
   ]
  },
  {
   "cell_type": "code",
   "execution_count": 3,
   "id": "f23fb4e9-7490-4a33-9d49-b40564449517",
   "metadata": {},
   "outputs": [],
   "source": [
    "def load_gaia(votable_files, dir_in):\n",
    "    \n",
    "    if isinstance(votable_files, str):\n",
    "        votable_files = [votable_files]\n",
    "        \n",
    "    gaia_ra = []\n",
    "    gaia_dec = []\n",
    "    gaia_mag = []\n",
    "\n",
    "    for i, filename in enumerate(votable_files, start=1):\n",
    "        print(f'Read VOTable {i}/{len(votable_files)}..')\n",
    "        votable = parse(os.path.join(dir_in, filename))\n",
    "        table = votable.get_first_table()\n",
    "        sel = table.array['dec'] > -1\n",
    "        gaia_ra.append(table.array['ra'].data[sel])\n",
    "        gaia_dec.append(table.array['dec'].data[sel])\n",
    "        gaia_mag.append(table.array['phot_g_mean_mag'].data[sel])\n",
    "\n",
    "    gaia_ra = np.concatenate(gaia_ra)\n",
    "    gaia_dec = np.concatenate(gaia_dec)\n",
    "    gaia_mag = np.concatenate(gaia_mag)\n",
    "    \n",
    "    return gaia_ra, gaia_dec, gaia_mag"
   ]
  },
  {
   "cell_type": "code",
   "execution_count": 4,
   "id": "a627a846-8d6d-49b5-8db3-a6da754a781d",
   "metadata": {},
   "outputs": [],
   "source": [
    "def plot_rectangle(rectangle_center, size, **kwargs):\n",
    "    \"\"\"Plot a rectangle.\"\"\"\n",
    "    rectangle = plt.Rectangle((rectangle_center[0]-size/2, rectangle_center[1]-size/2), size, size, fill=False, **kwargs)\n",
    "    plt.gca().add_artist(rectangle)"
   ]
  },
  {
   "cell_type": "code",
   "execution_count": 5,
   "id": "edc813a3-1fd1-4991-bc68-99a943a31103",
   "metadata": {},
   "outputs": [],
   "source": [
    "def plot_sciencefield(field_center, size):\n",
    "    \"\"\"Plot the science field.\"\"\"\n",
    "    plot_rectangle(field_center, size, color='0.5')\n",
    "    plt.plot(field_center[0], field_center[1], color='0.5', marker='+', ms=10)"
   ]
  },
  {
   "cell_type": "code",
   "execution_count": 6,
   "id": "93f5babe-71f7-4777-8f50-fb0edf1daa2a",
   "metadata": {},
   "outputs": [],
   "source": [
    "def plot_circle(circle_center, radius, **kwargs):\n",
    "    \"\"\"Plot a circle.\"\"\"\n",
    "    circle = plt.Circle(circle_center, radius, fill=False, **kwargs)\n",
    "    plt.gca().add_artist(circle)"
   ]
  },
  {
   "cell_type": "code",
   "execution_count": 7,
   "id": "81389851-6ac8-4f86-946c-124605be0bd2",
   "metadata": {},
   "outputs": [],
   "source": [
    "def plot_patrollingfield(radius_outer, radius_inner):\n",
    "    \"\"\"Plot the guider patrolling field.\"\"\"\n",
    "    plot_circle([0, 0], radius_inner, color='orange')\n",
    "    plot_circle([0, 0], radius_outer, color='orange')\n",
    "    plt.gca().set_aspect(1)\n",
    "    lim = radius_outer * 1.1\n",
    "    plt.xlim(-lim, lim)\n",
    "    plt.ylim(-lim, lim)"
   ]
  },
  {
   "cell_type": "markdown",
   "id": "1b87deeb-b9ab-436f-9aae-17d86dd682c4",
   "metadata": {},
   "source": [
    "## Read in Gaia stars"
   ]
  },
  {
   "cell_type": "code",
   "execution_count": 8,
   "id": "958c0f34-6ce3-4b6a-a043-16258f4cc28d",
   "metadata": {},
   "outputs": [
    {
     "name": "stdout",
     "output_type": "stream",
     "text": [
      "Read VOTable 1/1..\n",
      "# stars: 373975\n"
     ]
    }
   ],
   "source": [
    "dir_in = 'gaia/'\n",
    "votable_files = 'gaia_g_mag12_b28.vot'\n",
    "\n",
    "gaia_ra, gaia_dec, gaia_mag = load_gaia(votable_files, dir_in)\n",
    "gaia_coord = SkyCoord(gaia_ra, gaia_dec, unit='deg')\n",
    "\n",
    "print('# stars:', gaia_mag.shape[0])"
   ]
  },
  {
   "cell_type": "code",
   "execution_count": 9,
   "id": "be612862-04c5-4047-860d-b1b6ced889e5",
   "metadata": {},
   "outputs": [
    {
     "data": {
      "text/html": [
       "<div>\n",
       "<style scoped>\n",
       "    .dataframe tbody tr th:only-of-type {\n",
       "        vertical-align: middle;\n",
       "    }\n",
       "\n",
       "    .dataframe tbody tr th {\n",
       "        vertical-align: top;\n",
       "    }\n",
       "\n",
       "    .dataframe thead th {\n",
       "        text-align: right;\n",
       "    }\n",
       "</style>\n",
       "<table border=\"1\" class=\"dataframe\">\n",
       "  <thead>\n",
       "    <tr style=\"text-align: right;\">\n",
       "      <th></th>\n",
       "      <th>mag</th>\n",
       "    </tr>\n",
       "  </thead>\n",
       "  <tbody>\n",
       "    <tr>\n",
       "      <th>count</th>\n",
       "      <td>373975.000000</td>\n",
       "    </tr>\n",
       "    <tr>\n",
       "      <th>mean</th>\n",
       "      <td>10.776224</td>\n",
       "    </tr>\n",
       "    <tr>\n",
       "      <th>std</th>\n",
       "      <td>1.137597</td>\n",
       "    </tr>\n",
       "    <tr>\n",
       "      <th>min</th>\n",
       "      <td>1.731607</td>\n",
       "    </tr>\n",
       "    <tr>\n",
       "      <th>25%</th>\n",
       "      <td>10.263649</td>\n",
       "    </tr>\n",
       "    <tr>\n",
       "      <th>50%</th>\n",
       "      <td>11.105633</td>\n",
       "    </tr>\n",
       "    <tr>\n",
       "      <th>75%</th>\n",
       "      <td>11.624248</td>\n",
       "    </tr>\n",
       "    <tr>\n",
       "      <th>max</th>\n",
       "      <td>11.999992</td>\n",
       "    </tr>\n",
       "  </tbody>\n",
       "</table>\n",
       "</div>"
      ],
      "text/plain": [
       "                 mag\n",
       "count  373975.000000\n",
       "mean       10.776224\n",
       "std         1.137597\n",
       "min         1.731607\n",
       "25%        10.263649\n",
       "50%        11.105633\n",
       "75%        11.624248\n",
       "max        11.999992"
      ]
     },
     "execution_count": 9,
     "metadata": {},
     "output_type": "execute_result"
    }
   ],
   "source": [
    "DataFrame({'mag': gaia_mag}).describe()"
   ]
  },
  {
   "cell_type": "markdown",
   "id": "638918ac-7318-42cc-b6d3-ccac62e1d5fc",
   "metadata": {},
   "source": [
    "## Geometry"
   ]
  },
  {
   "cell_type": "markdown",
   "id": "bf2012d7-a61e-4e02-9f6b-9b3d85e6be18",
   "metadata": {},
   "source": [
    "![Test](info/Guider_N_region.png)"
   ]
  },
  {
   "cell_type": "markdown",
   "id": "dee79b5a-c120-46ff-b520-44510edf2ae1",
   "metadata": {},
   "source": [
    "**Notes:**\n",
    "- The big square shows the science field.\n",
    "- The small squares indicate different positions of the guide field along circular path around the science field.\n",
    "- Different from the sketch, guide field positions are allowed 360 degrees around the science field, not just on the 90 degrees bow that is shown.\n",
    "- The guide camera FoV is 72'' by 36''. According to John, the long side is along the radial axis.\n",
    "- The separation between the science field center and the guide camera center is 22.5 arcmin, according to John, Sid's confirmation pending."
   ]
  },
  {
   "cell_type": "code",
   "execution_count": 10,
   "id": "d9aaf2cf-b4bd-4a28-a10e-97540b8cda43",
   "metadata": {},
   "outputs": [
    {
     "data": {
      "image/png": "[encoded data removed]",
      "text/plain": [
       "<Figure size 640x480 with 1 Axes>"
      ]
     },
     "metadata": {},
     "output_type": "display_data"
    }
   ],
   "source": [
    "plt.plot(gaia_ra[::100], gaia_dec[::100], linestyle='None', marker='o', ms=4);"
   ]
  },
  {
   "cell_type": "markdown",
   "id": "d89c15b8-91f3-4e23-b5d2-f05875e278e8",
   "metadata": {},
   "source": [
    "## Demonstration"
   ]
  },
  {
   "cell_type": "code",
   "execution_count": 11,
   "id": "a1bc6b88-ba6b-474a-a9a1-a7ee39c9bf27",
   "metadata": {},
   "outputs": [],
   "source": [
    "field_size = 30 * 60 # arcsec\n",
    "guide_radius = 22.5 * 60 # arcsec\n",
    "cam_size = [72, 36] # arcsec\n",
    "limit = 0 # arcsec\n",
    "scale = np.radians(1 / 3600) # rad / arcsec\n",
    "\n",
    "field_size = Angle(field_size * scale, unit='rad')"
   ]
  },
  {
   "cell_type": "markdown",
   "id": "d529a0f5-5b4c-48f2-a0d8-e2ef57dcac04",
   "metadata": {},
   "source": [
    "### Candidates in the full guider region"
   ]
  },
  {
   "cell_type": "code",
   "execution_count": 12,
   "id": "e3a740fc-05a3-4c20-98c7-d61bf6a9ba77",
   "metadata": {},
   "outputs": [],
   "source": [
    "field_center = SkyCoord(150, 80, unit='deg')\n",
    "guide_radius_inner = Angle((guide_radius - cam_size[0] / 2. + limit) * scale, unit='rad')\n",
    "guide_radius_outer = Angle((guide_radius + cam_size[0] / 2. - limit) * scale, unit='rad')"
   ]
  },
  {
   "cell_type": "code",
   "execution_count": 13,
   "id": "fd47f24a-e295-4a7d-91bb-139ab1596b1b",
   "metadata": {},
   "outputs": [],
   "source": [
    "sel_outer = gaia_coord.separation(field_center) < guide_radius_outer\n",
    "sel_inner = gaia_coord[sel_outer].separation(field_center) < guide_radius_inner\n",
    "i_cand = np.nonzero(sel_outer)[0][~sel_inner]\n",
    "gaia_coord_circle = gaia_coord[sel_outer]\n",
    "gaia_coord_cand = gaia_coord[i_cand]"
   ]
  },
  {
   "cell_type": "code",
   "execution_count": 14,
   "id": "cbc8cadb-9254-445b-bb28-03e196929aa6",
   "metadata": {},
   "outputs": [
    {
     "data": {
      "text/plain": [
       "<SkyCoord (ICRS): (ra, dec) in deg\n",
       "    [(152.15020053, 79.92331843), (152.15757366, 80.07638237),\n",
       "     (149.77188648, 80.3803066 ), (149.77075147, 80.37989785)]>"
      ]
     },
     "execution_count": 14,
     "metadata": {},
     "output_type": "execute_result"
    }
   ],
   "source": [
    "gaia_coord_cand"
   ]
  },
  {
   "cell_type": "code",
   "execution_count": 15,
   "id": "1c0cce13-bc11-419f-a908-2dabd32cbb77",
   "metadata": {},
   "outputs": [
    {
     "data": {
      "text/plain": [
       "array([11.826118, 10.538339, 10.146392,  7.825651], dtype=float32)"
      ]
     },
     "execution_count": 15,
     "metadata": {},
     "output_type": "execute_result"
    }
   ],
   "source": [
    "gaia_mag[i_cand]"
   ]
  },
  {
   "cell_type": "code",
   "execution_count": 16,
   "id": "da99abab-df09-4578-856f-415d577daf89",
   "metadata": {},
   "outputs": [],
   "source": [
    "gaia_circle_rot_ra, gaia_circle_rot_dec = rotate_frame(gaia_coord_circle.ra.rad, gaia_coord_circle.dec.rad, field_center)\n",
    "gaia_cand_rot_ra, gaia_cand_rot_dec = rotate_frame(gaia_coord_cand.ra.rad, gaia_coord_cand.dec.rad, field_center)"
   ]
  },
  {
   "cell_type": "code",
   "execution_count": 17,
   "id": "730dfc6e-6861-486d-a48e-69e7e8cb1834",
   "metadata": {},
   "outputs": [
    {
     "data": {
      "image/png": "[encoded data removed]",
      "text/plain": [
       "<Figure size 640x480 with 1 Axes>"
      ]
     },
     "metadata": {},
     "output_type": "display_data"
    }
   ],
   "source": [
    "plot_sciencefield([0, 0], field_size.arcmin)\n",
    "plot_patrollingfield(guide_radius_outer.arcmin, guide_radius_inner.arcmin)\n",
    "plt.plot(np.degrees(gaia_circle_rot_ra)*60, np.degrees(gaia_circle_rot_dec)*60, linestyle='None', marker='o', color='0.7')\n",
    "plt.plot(np.degrees(gaia_cand_rot_ra)*60, np.degrees(gaia_cand_rot_dec)*60, linestyle='None', marker='o', color='tab:orange');"
   ]
  },
  {
   "cell_type": "markdown",
   "id": "1a8c3a59-0bbf-4d0f-b413-92557b447e97",
   "metadata": {},
   "source": [
    "### Orientation of the guide camera"
   ]
  },
  {
   "cell_type": "markdown",
   "id": "6fb64c56-79d4-4eed-87ca-fabd47866582",
   "metadata": {},
   "source": [
    "We use simple cartesian geometry in the rotated coordinate system:"
   ]
  },
  {
   "cell_type": "code",
   "execution_count": 18,
   "id": "8bc37d08-2907-41ed-ba83-ef36c3eed723",
   "metadata": {},
   "outputs": [
    {
     "data": {
      "text/plain": [
       "array([259.497144  , -77.37326595,   5.72283999,   5.75749862])"
      ]
     },
     "execution_count": 18,
     "metadata": {},
     "output_type": "execute_result"
    }
   ],
   "source": [
    "alpha = np.mod(np.arctan2(gaia_cand_rot_dec, gaia_cand_rot_ra), 2 * np.pi) - np.pi / 2\n",
    "np.degrees(alpha)"
   ]
  },
  {
   "cell_type": "markdown",
   "id": "2e16ee14-60dc-4307-a490-a313fb653c9c",
   "metadata": {},
   "source": [
    "## Class implementation"
   ]
  },
  {
   "cell_type": "markdown",
   "id": "63cce1a5-a824-4c19-970b-60870208760a",
   "metadata": {},
   "source": [
    "Create guide star selection class:"
   ]
  },
  {
   "cell_type": "code",
   "execution_count": 8,
   "id": "dc9690c0-b569-4c40-b9c9-b9d5f3347951",
   "metadata": {},
   "outputs": [],
   "source": [
    "from guidestars import GuideStarWalopN, load_gaia"
   ]
  },
  {
   "cell_type": "code",
   "execution_count": 9,
   "id": "ebdb2a10-0e54-454d-b365-01e0f1252f74",
   "metadata": {},
   "outputs": [],
   "source": [
    "selector = GuideStarWalopN()"
   ]
  },
  {
   "cell_type": "markdown",
   "id": "363ca06a-6470-4c35-9c5e-fecfb62643ba",
   "metadata": {},
   "source": [
    "### Set, save, load parameters"
   ]
  },
  {
   "cell_type": "markdown",
   "id": "d109042b-0a61-435b-946f-f2525f2b8cba",
   "metadata": {},
   "source": [
    "Define parameters:"
   ]
  },
  {
   "cell_type": "code",
   "execution_count": 10,
   "id": "e772b948-73a2-4b5b-b5c3-f64c1e617ded",
   "metadata": {},
   "outputs": [],
   "source": [
    "guide_radius = 22.5 * 60 # arcsec\n",
    "field_size = 30 * 60 # arcsec\n",
    "cam_size = [72, 36] # arcsec\n",
    "home_pos = np.radians(0) # radians\n",
    "limit = 0 # arcsec\n",
    "scale = np.radians(1 / 3600) # rad / arcsec\n",
    "scale_rot = 180 / np.pi # degrees / radian\n",
    "n_min = 2\n",
    "n_max = 3"
   ]
  },
  {
   "cell_type": "code",
   "execution_count": 11,
   "id": "5e9667ca-dd41-41eb-8874-d3a762209e11",
   "metadata": {},
   "outputs": [],
   "source": [
    "selector.set_params(\n",
    "            guide_radius, field_size, cam_size, home_pos, limit=0,\n",
    "            scale=scale, scale_rot=scale_rot, n_min=n_min, n_max=n_max)"
   ]
  },
  {
   "cell_type": "markdown",
   "id": "cbb5b4a7-15b4-434e-b9c5-dd9d541c7c7f",
   "metadata": {},
   "source": [
    "Save/load parameters to/from JSON file:"
   ]
  },
  {
   "cell_type": "code",
   "execution_count": 12,
   "id": "8f43535e-b67e-4e5a-ac5c-9ce454338d93",
   "metadata": {},
   "outputs": [
    {
     "name": "stdout",
     "output_type": "stream",
     "text": [
      "Guide parameters saved in: guide_walop_n.json\n"
     ]
    }
   ],
   "source": [
    "selector.save_params('guide_walop_n.json')"
   ]
  },
  {
   "cell_type": "code",
   "execution_count": 13,
   "id": "043b5a19-5e82-4dd4-a821-0095220ef1fa",
   "metadata": {},
   "outputs": [
    {
     "name": "stdout",
     "output_type": "stream",
     "text": [
      "Parameters loaded from guide_walop_n.json.\n"
     ]
    }
   ],
   "source": [
    "selector.load_params('guide_walop_n.json')"
   ]
  },
  {
   "cell_type": "markdown",
   "id": "33670e13-7825-44e9-b201-607a8ee81de6",
   "metadata": {},
   "source": [
    "### Add stars and stars to avoid"
   ]
  },
  {
   "cell_type": "markdown",
   "id": "47284e20-b030-43d2-9a45-ce215b774100",
   "metadata": {},
   "source": [
    "Load Gaia stars:"
   ]
  },
  {
   "cell_type": "code",
   "execution_count": 14,
   "id": "41dc88d3-0a60-4492-bfce-e00c95030b4b",
   "metadata": {},
   "outputs": [
    {
     "name": "stdout",
     "output_type": "stream",
     "text": [
      "Read VOTable 1/1..\n",
      "# stars: 373975\n"
     ]
    }
   ],
   "source": [
    "dir_in = 'gaia/'\n",
    "votable_files = 'gaia_g_mag12_b28.vot'\n",
    "\n",
    "gaia_ra, gaia_dec, gaia_mag = load_gaia(votable_files, dir_in, dec_lolim=-1)\n",
    "gaia_coord = SkyCoord(gaia_ra, gaia_dec, unit='deg')\n",
    "\n",
    "print('# stars:', gaia_mag.shape[0])"
   ]
  },
  {
   "cell_type": "markdown",
   "id": "cc013bba-0bda-49e9-91c1-71648e2a5025",
   "metadata": {},
   "source": [
    "Separate bright stars:"
   ]
  },
  {
   "cell_type": "code",
   "execution_count": 15,
   "id": "2a68aa40-3ae8-4a20-a810-402e8314623c",
   "metadata": {},
   "outputs": [
    {
     "name": "stdout",
     "output_type": "stream",
     "text": [
      "4147 bright stars separated.\n"
     ]
    }
   ],
   "source": [
    "gaia_mag_limit = 7\n",
    "sel = gaia_mag < gaia_mag_limit\n",
    "gaia_bright_ra = gaia_ra[sel]\n",
    "gaia_bright_dec = gaia_dec[sel]\n",
    "gaia_ra = gaia_ra[~sel]\n",
    "gaia_dec = gaia_dec[~sel]\n",
    "gaia_coord = gaia_coord[~sel]\n",
    "gaia_mag = gaia_mag[~sel]\n",
    "print(f'{np.sum(sel)} bright stars separated.')"
   ]
  },
  {
   "cell_type": "markdown",
   "id": "8e5ec74f-bf29-4ea6-bc71-0f616a5be5e9",
   "metadata": {},
   "source": [
    "Add bright stars that should be avoided:"
   ]
  },
  {
   "cell_type": "code",
   "execution_count": 16,
   "id": "830a105c-d824-4471-a034-b68fd5e2b96d",
   "metadata": {},
   "outputs": [
    {
     "name": "stdout",
     "output_type": "stream",
     "text": [
      "4147 coordinates of bright stars set that will be avoided in the guide camera.\n"
     ]
    }
   ],
   "source": [
    "selector.set_stars_to_avoid(np.radians(gaia_bright_ra), np.radians(gaia_bright_dec))"
   ]
  },
  {
   "cell_type": "markdown",
   "id": "9e8f76f4-d198-4e4e-96df-8e8e1585efb3",
   "metadata": {},
   "source": [
    "Add stars:"
   ]
  },
  {
   "cell_type": "code",
   "execution_count": 17,
   "id": "df46fc06-cbe5-4315-82d3-1597e02b8a06",
   "metadata": {},
   "outputs": [
    {
     "name": "stdout",
     "output_type": "stream",
     "text": [
      "369828 candidate stars added.\n",
      "Magnitude range: 7.0 - 12.0\n"
     ]
    }
   ],
   "source": [
    "selector.set_stars(np.radians(gaia_ra), np.radians(gaia_dec), gaia_mag)"
   ]
  },
  {
   "cell_type": "markdown",
   "id": "de993088-3dda-4012-bdbb-2006fc723feb",
   "metadata": {},
   "source": [
    "### Select guide stars for specific sky location"
   ]
  },
  {
   "cell_type": "code",
   "execution_count": 29,
   "id": "b0563523-efa1-47aa-a58c-ca68e7a6dc18",
   "metadata": {},
   "outputs": [
    {
     "data": {
      "text/plain": [
       "[{'guidestar_ra': 2.6139927362803164,\n",
       "  'guidestar_dec': 1.4028938698788573,\n",
       "  'guidestar_mag': 7.825651,\n",
       "  'cam_rot': 5.7574986228706715},\n",
       " {'guidestar_ra': 2.614012546018729,\n",
       "  'guidestar_dec': 1.4029010038998369,\n",
       "  'guidestar_mag': 10.146392,\n",
       "  'cam_rot': 5.72283999470609},\n",
       " {'guidestar_ra': 2.655650642206711,\n",
       "  'guidestar_dec': 1.397596525398743,\n",
       "  'guidestar_mag': 10.538339,\n",
       "  'cam_rot': 282.6267340457015}]"
      ]
     },
     "execution_count": 29,
     "metadata": {},
     "output_type": "execute_result"
    }
   ],
   "source": [
    "field_center = SkyCoord(150, 80, unit='deg')\n",
    "guidestars, coord_rot_guidestars, coord_rot_cand, coord_rot_avoid = selector.select(\n",
    "    field_ra=field_center.ra.rad, field_dec=field_center.dec.rad, return_coord=True)\n",
    "guidestars"
   ]
  },
  {
   "cell_type": "code",
   "execution_count": 30,
   "id": "14d80d2c-b5d0-41f2-b050-e345ee4fb1ea",
   "metadata": {},
   "outputs": [
    {
     "data": {
      "image/png": "[encoded data removed]",
      "text/plain": [
       "<Figure size 640x480 with 1 Axes>"
      ]
     },
     "metadata": {},
     "output_type": "display_data"
    }
   ],
   "source": [
    "selector.visualize_selection(coord_rot_guidestars, coord_rot_cand, coord_rot_avoid);"
   ]
  },
  {
   "cell_type": "markdown",
   "id": "eced7a36-f937-4de9-bf79-1ac74cfe902f",
   "metadata": {},
   "source": [
    "### Calculate exposure times "
   ]
  },
  {
   "cell_type": "markdown",
   "id": "1c97a22b-4b4c-41c0-bc2a-ac593a27db8f",
   "metadata": {},
   "source": [
    "We implement the magnitude-to-exposure time function in a lambda function and hand it to the `select()` method. Then it will be automatically applied to each guidestar:"
   ]
  },
  {
   "cell_type": "code",
   "execution_count": 31,
   "id": "ba526924-8eff-4f86-8b48-8819180e03c2",
   "metadata": {},
   "outputs": [],
   "source": [
    "mag_ref = 16\n",
    "exp_ref = 5 # sec\n",
    "exp_min = 1 # sec\n",
    "mag_to_exp = lambda mag: np.maximum(exp_ref * 10**((mag - mag_ref) / 2.5), exp_min)"
   ]
  },
  {
   "cell_type": "code",
   "execution_count": 32,
   "id": "ddbcf9d3-9a5c-4157-910e-a6aeb21222a3",
   "metadata": {},
   "outputs": [
    {
     "data": {
      "text/plain": [
       "[{'guidestar_ra': 2.6139927362803164,\n",
       "  'guidestar_dec': 1.4028938698788573,\n",
       "  'guidestar_mag': 7.825651,\n",
       "  'cam_rot': 5.7574986228706715,\n",
       "  'exp': 1.0},\n",
       " {'guidestar_ra': 2.614012546018729,\n",
       "  'guidestar_dec': 1.4029010038998369,\n",
       "  'guidestar_mag': 10.146392,\n",
       "  'cam_rot': 5.72283999470609,\n",
       "  'exp': 1.0},\n",
       " {'guidestar_ra': 2.655650642206711,\n",
       "  'guidestar_dec': 1.397596525398743,\n",
       "  'guidestar_mag': 10.538339,\n",
       "  'cam_rot': 282.6267340457015,\n",
       "  'exp': 1.0}]"
      ]
     },
     "execution_count": 32,
     "metadata": {},
     "output_type": "execute_result"
    }
   ],
   "source": [
    "guidestars = selector.select(field_ra=field_center.ra.rad, field_dec=field_center.dec.rad, mag_to_exp=mag_to_exp)\n",
    "guidestars"
   ]
  },
  {
   "cell_type": "markdown",
   "id": "c7907963-1545-432a-a08a-b64b4bc0ce98",
   "metadata": {},
   "source": [
    "### Select guide stars for field grid"
   ]
  },
  {
   "cell_type": "markdown",
   "id": "1dd07659-bc26-4a9f-92e5-8b5c6f08955e",
   "metadata": {},
   "source": [
    "Create Northern field grid:"
   ]
  },
  {
   "cell_type": "code",
   "execution_count": 18,
   "id": "0702591b-5268-4372-a6fb-4a3d98a5ec44",
   "metadata": {},
   "outputs": [
    {
     "name": "stdout",
     "output_type": "stream",
     "text": [
      "Create fields..\n",
      "    Done                                                    \n",
      "Final number of fields: 1097\n",
      "Grid parameters loaded from grid_test_n.json.\n"
     ]
    }
   ],
   "source": [
    "grid = FieldGridIsoLat(verbose=1)\n",
    "grid.load_params('grid_test_n.json')"
   ]
  },
  {
   "cell_type": "code",
   "execution_count": 22,
   "id": "551ef3b0-d4f2-4ed7-949b-32782a3c0e48",
   "metadata": {},
   "outputs": [
    {
     "name": "stdout",
     "output_type": "stream",
     "text": [
      "Iterate through field grid..\n",
      "  done.                             \n",
      "\n",
      "WARNING: Not all fields have the required minimum number of guide stars (2) available.\n",
      "\n",
      "Results:\n",
      "--------------------------------------------\n",
      "Guide stars selected:           1477\n",
      "Fields without guide stars:      288 (26.3%)\n",
      "--------------------------------------------\n",
      "Median number of field stars:      1\n",
      "Mean number of field stars:        1\n",
      "Max number of field stars:         3\n"
     ]
    }
   ],
   "source": [
    "guidestars = selector.select(fieldgrid=grid)"
   ]
  },
  {
   "cell_type": "code",
   "execution_count": 35,
   "id": "86dc8f10-5d42-43ae-a771-3807debd166f",
   "metadata": {},
   "outputs": [
    {
     "name": "stdout",
     "output_type": "stream",
     "text": [
      "Results:\n",
      "--------------------------------------------\n",
      "Guide stars selected:           1477\n",
      "Fields without guide stars:      288 (26.3%)\n",
      "--------------------------------------------\n",
      "Median number of field stars:      1\n",
      "Mean number of field stars:        1\n",
      "Max number of field stars:         3\n",
      "--------------------------------------------\n",
      "No. of guide stars: No. of fields\n",
      " 0: 288\n",
      " 1: 353\n",
      " 2: 244\n",
      " 3: 212\n",
      "--------------------------------------------\n"
     ]
    }
   ],
   "source": [
    "selector.check_results(verbose=2)"
   ]
  },
  {
   "cell_type": "markdown",
   "id": "061df735-942d-423c-b741-e1e45fa545dd",
   "metadata": {},
   "source": [
    "### Add higher magnitude stars"
   ]
  },
  {
   "cell_type": "markdown",
   "id": "f7fb0073-629a-4c31-955b-ab1c508275a3",
   "metadata": {},
   "source": [
    "Add stars with higher magnitudes and automatically update guide collections for fields, where not enough are available yet:"
   ]
  },
  {
   "cell_type": "code",
   "execution_count": 36,
   "id": "bc338e58-167d-405e-bd4a-692ac742eb0f",
   "metadata": {},
   "outputs": [
    {
     "name": "stdout",
     "output_type": "stream",
     "text": [
      "Read VOTable 1/1..\n",
      "# stars: 412800\n"
     ]
    }
   ],
   "source": [
    "dir_in = 'gaia/'\n",
    "votable_files = 'gaia_g_mag12-13_b28.vot'\n",
    "\n",
    "gaia_ra, gaia_dec, gaia_mag = load_gaia(votable_files, dir_in, dec_lolim=-1)\n",
    "\n",
    "print('# stars:', gaia_mag.shape[0])"
   ]
  },
  {
   "cell_type": "markdown",
   "id": "4cd9230b-ff2e-4a26-9021-27eb19a86e4a",
   "metadata": {},
   "source": [
    "Add stars:"
   ]
  },
  {
   "cell_type": "code",
   "execution_count": 37,
   "id": "b08c3f12-f561-4080-a847-ec45271c8a63",
   "metadata": {},
   "outputs": [
    {
     "name": "stdout",
     "output_type": "stream",
     "text": [
      "Overwriting previous stars..\n",
      "412800 candidate stars added.\n",
      "Magnitude range: 12.0 - 13.0\n",
      "\n",
      "641 field do not have enough guide stars. Search for more..\n",
      "  done.                             \n",
      "\n",
      "WARNING: Not all fields have the required minimum number of guide stars (2) available.\n",
      "\n",
      "Results:\n",
      "--------------------------------------------\n",
      "Guide stars selected:           2048\n",
      "Fields without guide stars:       83 (7.6%)\n",
      "--------------------------------------------\n",
      "Median number of field stars:      2\n",
      "Mean number of field stars:        2\n",
      "Max number of field stars:         3\n"
     ]
    }
   ],
   "source": [
    "selector.set_stars(np.radians(gaia_ra), np.radians(gaia_dec), gaia_mag)"
   ]
  },
  {
   "cell_type": "code",
   "execution_count": 38,
   "id": "66b1728f-a0f5-44d8-a96c-4a59dc2ff2ce",
   "metadata": {},
   "outputs": [
    {
     "name": "stdout",
     "output_type": "stream",
     "text": [
      "Results:\n",
      "--------------------------------------------\n",
      "Guide stars selected:           2048\n",
      "Fields without guide stars:       83 (7.6%)\n",
      "--------------------------------------------\n",
      "Median number of field stars:      2\n",
      "Mean number of field stars:        2\n",
      "Max number of field stars:         3\n",
      "--------------------------------------------\n",
      "No. of guide stars: No. of fields\n",
      " 0:  83\n",
      " 1: 192\n",
      " 2: 610\n",
      " 3: 212\n",
      "--------------------------------------------\n"
     ]
    }
   ],
   "source": [
    "selector.check_results(verbose=2)"
   ]
  },
  {
   "cell_type": "markdown",
   "id": "20e00443-e287-4870-9af8-ac300bd70284",
   "metadata": {},
   "source": [
    "## Trials with spherical coordinates"
   ]
  },
  {
   "cell_type": "markdown",
   "id": "facc2e54-700b-4bac-ac21-529ec4c2f82d",
   "metadata": {},
   "source": [
    "<div class=\"alert alert-block alert-warning\">\n",
    "I tested the following approach first, but decided not to use it. Instead I am using the cartesian coordinate simplification above.\n",
    "</div>"
   ]
  },
  {
   "cell_type": "code",
   "execution_count": 39,
   "id": "5d2119f5-79d7-47b9-8275-d372cde75b7d",
   "metadata": {},
   "outputs": [],
   "source": [
    "field_center = SkyCoord(0, 0, unit='deg')\n",
    "n = 8\n",
    "a = 10 # deg\n",
    "a = np.radians(a)\n",
    "ra = -a * np.sin(np.linspace(0, 2*np.pi, n+1))\n",
    "dec = a * np.cos(np.linspace(0, 2*np.pi, n+1))\n",
    "x, y, z = sphere_to_cart(ra, dec)\n",
    "x, y, z = rot_dec(x, y, z, field_center.dec.rad)\n",
    "x, y, z = rot_ra(x, y, z, field_center.ra.rad)\n",
    "ra_rot, dec_rot = cart_to_sphere(x, y, z)\n",
    "ra_rot = np.where(ra_rot > np.pi, ra_rot-2*np.pi, ra_rot)\n",
    "stars = SkyCoord(ra_rot, dec_rot, unit='rad')"
   ]
  },
  {
   "cell_type": "code",
   "execution_count": 40,
   "id": "80957beb-6998-4427-b2cb-c9dbbbbe5c23",
   "metadata": {},
   "outputs": [],
   "source": [
    "a = np.pi / 2. - stars.dec.rad\n",
    "b = np.pi / 2. - field_center.dec.rad\n",
    "#gamma = np.absolute(stars.ra.rad - field_center.ra.rad)\n",
    "gamma = stars.ra.rad - field_center.ra.rad"
   ]
  },
  {
   "cell_type": "code",
   "execution_count": 41,
   "id": "6e9c189a-3de7-4d6d-9d28-a8632b154822",
   "metadata": {},
   "outputs": [
    {
     "data": {
      "text/html": [
       "<div>\n",
       "<style scoped>\n",
       "    .dataframe tbody tr th:only-of-type {\n",
       "        vertical-align: middle;\n",
       "    }\n",
       "\n",
       "    .dataframe tbody tr th {\n",
       "        vertical-align: top;\n",
       "    }\n",
       "\n",
       "    .dataframe thead th {\n",
       "        text-align: right;\n",
       "    }\n",
       "</style>\n",
       "<table border=\"1\" class=\"dataframe\">\n",
       "  <thead>\n",
       "    <tr style=\"text-align: right;\">\n",
       "      <th></th>\n",
       "      <th>a</th>\n",
       "      <th>b</th>\n",
       "      <th>gamma</th>\n",
       "      <th>cos(c)</th>\n",
       "      <th>c</th>\n",
       "      <th>sin(alpha)</th>\n",
       "      <th>alpha</th>\n",
       "    </tr>\n",
       "  </thead>\n",
       "  <tbody>\n",
       "    <tr>\n",
       "      <th>0</th>\n",
       "      <td>1.396263</td>\n",
       "      <td>1.570796</td>\n",
       "      <td>0.000000e+00</td>\n",
       "      <td>0.984808</td>\n",
       "      <td>0.174533</td>\n",
       "      <td>0.000000</td>\n",
       "      <td>0.00000</td>\n",
       "    </tr>\n",
       "    <tr>\n",
       "      <th>1</th>\n",
       "      <td>1.447383</td>\n",
       "      <td>1.570796</td>\n",
       "      <td>6.159772e+00</td>\n",
       "      <td>0.984846</td>\n",
       "      <td>0.174311</td>\n",
       "      <td>-0.704402</td>\n",
       "      <td>-44.78128</td>\n",
       "    </tr>\n",
       "    <tr>\n",
       "      <th>2</th>\n",
       "      <td>1.570796</td>\n",
       "      <td>1.570796</td>\n",
       "      <td>6.108652e+00</td>\n",
       "      <td>0.984808</td>\n",
       "      <td>0.174533</td>\n",
       "      <td>-1.000000</td>\n",
       "      <td>-90.00000</td>\n",
       "    </tr>\n",
       "    <tr>\n",
       "      <th>3</th>\n",
       "      <td>1.694210</td>\n",
       "      <td>1.570796</td>\n",
       "      <td>6.159772e+00</td>\n",
       "      <td>0.984846</td>\n",
       "      <td>0.174311</td>\n",
       "      <td>-0.704402</td>\n",
       "      <td>-44.78128</td>\n",
       "    </tr>\n",
       "    <tr>\n",
       "      <th>4</th>\n",
       "      <td>1.745329</td>\n",
       "      <td>1.570796</td>\n",
       "      <td>0.000000e+00</td>\n",
       "      <td>0.984808</td>\n",
       "      <td>0.174533</td>\n",
       "      <td>0.000000</td>\n",
       "      <td>0.00000</td>\n",
       "    </tr>\n",
       "    <tr>\n",
       "      <th>5</th>\n",
       "      <td>1.694210</td>\n",
       "      <td>1.570796</td>\n",
       "      <td>1.234134e-01</td>\n",
       "      <td>0.984846</td>\n",
       "      <td>0.174311</td>\n",
       "      <td>0.704402</td>\n",
       "      <td>44.78128</td>\n",
       "    </tr>\n",
       "    <tr>\n",
       "      <th>6</th>\n",
       "      <td>1.570796</td>\n",
       "      <td>1.570796</td>\n",
       "      <td>1.745329e-01</td>\n",
       "      <td>0.984808</td>\n",
       "      <td>0.174533</td>\n",
       "      <td>1.000000</td>\n",
       "      <td>90.00000</td>\n",
       "    </tr>\n",
       "    <tr>\n",
       "      <th>7</th>\n",
       "      <td>1.447383</td>\n",
       "      <td>1.570796</td>\n",
       "      <td>1.234134e-01</td>\n",
       "      <td>0.984846</td>\n",
       "      <td>0.174311</td>\n",
       "      <td>0.704402</td>\n",
       "      <td>44.78128</td>\n",
       "    </tr>\n",
       "    <tr>\n",
       "      <th>8</th>\n",
       "      <td>1.396263</td>\n",
       "      <td>1.570796</td>\n",
       "      <td>4.274824e-17</td>\n",
       "      <td>0.984808</td>\n",
       "      <td>0.174533</td>\n",
       "      <td>0.000000</td>\n",
       "      <td>0.00000</td>\n",
       "    </tr>\n",
       "  </tbody>\n",
       "</table>\n",
       "</div>"
      ],
      "text/plain": [
       "          a         b         gamma    cos(c)         c  sin(alpha)     alpha\n",
       "0  1.396263  1.570796  0.000000e+00  0.984808  0.174533    0.000000   0.00000\n",
       "1  1.447383  1.570796  6.159772e+00  0.984846  0.174311   -0.704402 -44.78128\n",
       "2  1.570796  1.570796  6.108652e+00  0.984808  0.174533   -1.000000 -90.00000\n",
       "3  1.694210  1.570796  6.159772e+00  0.984846  0.174311   -0.704402 -44.78128\n",
       "4  1.745329  1.570796  0.000000e+00  0.984808  0.174533    0.000000   0.00000\n",
       "5  1.694210  1.570796  1.234134e-01  0.984846  0.174311    0.704402  44.78128\n",
       "6  1.570796  1.570796  1.745329e-01  0.984808  0.174533    1.000000  90.00000\n",
       "7  1.447383  1.570796  1.234134e-01  0.984846  0.174311    0.704402  44.78128\n",
       "8  1.396263  1.570796  4.274824e-17  0.984808  0.174533    0.000000   0.00000"
      ]
     },
     "execution_count": 41,
     "metadata": {},
     "output_type": "execute_result"
    }
   ],
   "source": [
    "cos_c = np.cos(a) * np.cos(b) + np.sin(a) * np.sin(b) * np.cos(gamma)\n",
    "c = np.arccos(cos_c)\n",
    "sin_alpha = np.sin(a) / np.sin(c) * np.sin(gamma)\n",
    "sin_alpha = np.round(sin_alpha, 8)\n",
    "#sin_alpha = np.where(sin_alpha > 1, 1, sin_alpha) # fix rounding errors\n",
    "#sin_alpha = np.where(sin_alpha < -1, -1, sin_alpha) # fix rounding errors\n",
    "alpha = np.arcsin(sin_alpha)\n",
    "\n",
    "DataFrame({'a': a, 'b': b, 'gamma': gamma, 'cos(c)': cos_c, 'c': c, 'sin(alpha)': sin_alpha, 'alpha': np.degrees(alpha)})"
   ]
  },
  {
   "cell_type": "code",
   "execution_count": 42,
   "id": "cdb90054-5b85-4d6f-a66a-1cbbe83fc0ac",
   "metadata": {},
   "outputs": [
    {
     "data": {
      "text/plain": [
       "[<matplotlib.lines.Line2D at 0x7ff2737e13a0>]"
      ]
     },
     "execution_count": 42,
     "metadata": {},
     "output_type": "execute_result"
    },
    {
     "data": {
      "image/png": "[encoded data removed]",
      "text/plain": [
       "<Figure size 640x480 with 1 Axes>"
      ]
     },
     "metadata": {},
     "output_type": "display_data"
    }
   ],
   "source": [
    "plt.plot(stars.ra.deg, stars.dec.deg, marker='o')\n",
    "plt.plot(stars.ra.deg[0], stars.dec.deg[0], marker='o', color='r')\n",
    "plt.plot(stars.ra.deg[1], stars.dec.deg[1], marker='o', color='orange')\n",
    "#plt.gca().set_aspect(1);"
   ]
  },
  {
   "cell_type": "code",
   "execution_count": 43,
   "id": "811b38fc-73c1-4a22-886d-d66ccf44e38f",
   "metadata": {},
   "outputs": [
    {
     "data": {
      "image/png": "[encoded data removed]",
      "text/plain": [
       "<Figure size 640x480 with 1 Axes>"
      ]
     },
     "metadata": {},
     "output_type": "display_data"
    }
   ],
   "source": [
    "plt.plot(np.degrees(alpha), marker='o');"
   ]
  },
  {
   "cell_type": "code",
   "execution_count": 44,
   "id": "4d39c69c-1f36-4fbd-b593-d56edfd6ea36",
   "metadata": {},
   "outputs": [],
   "source": [
    "stars_ra_rot, stars_dec_rot = rotate_frame(stars.ra.rad, stars.dec.rad, field_center)"
   ]
  },
  {
   "cell_type": "code",
   "execution_count": 45,
   "id": "aecbd7c1-d933-41f9-b19e-98839658776a",
   "metadata": {},
   "outputs": [
    {
     "data": {
      "text/plain": [
       "[<matplotlib.lines.Line2D at 0x7ff2737051f0>]"
      ]
     },
     "execution_count": 45,
     "metadata": {},
     "output_type": "execute_result"
    },
    {
     "data": {
      "image/png": "[encoded data removed]",
      "text/plain": [
       "<Figure size 640x480 with 1 Axes>"
      ]
     },
     "metadata": {},
     "output_type": "display_data"
    }
   ],
   "source": [
    "plt.plot(stars_ra_rot, stars_dec_rot, 'o')"
   ]
  },
  {
   "cell_type": "code",
   "execution_count": 46,
   "id": "4e16ca96-5def-42a5-85c4-4bdd2d187df3",
   "metadata": {},
   "outputs": [],
   "source": [
    "sel_ra_pos = stars_ra_rot >= 0\n",
    "sel_dec_pos = stars_dec_rot >= 0\n",
    "sel = np.logical_and(~sel_ra_pos, ~sel_dec_pos)\n",
    "alpha[sel] = np.pi - alpha[sel]\n",
    "sel = np.logical_and(sel_ra_pos, ~sel_dec_pos)\n",
    "alpha[sel] = np.pi + alpha[sel]\n",
    "sel = np.logical_and(sel_ra_pos, sel_dec_pos)\n",
    "alpha[sel] = 2 * np.pi - alpha[sel]\n",
    "alpha = np.mod(alpha, 2*np.pi)"
   ]
  },
  {
   "cell_type": "code",
   "execution_count": 47,
   "id": "295ee68e-bdaa-4b94-ba15-74b2c8ca4262",
   "metadata": {},
   "outputs": [
    {
     "data": {
      "image/png": "[encoded data removed]",
      "text/plain": [
       "<Figure size 640x480 with 1 Axes>"
      ]
     },
     "metadata": {},
     "output_type": "display_data"
    }
   ],
   "source": [
    "plt.plot(np.degrees(alpha), marker='o');"
   ]
  },
  {
   "cell_type": "code",
   "execution_count": null,
   "id": "89567f28-3a07-4dfe-b301-d99433629904",
   "metadata": {},
   "outputs": [],
   "source": []
  },
  {
   "cell_type": "markdown",
   "id": "1ae5dd1d-ae67-47a4-b474-888027aca056",
   "metadata": {},
   "source": [
    "**Notes:**\n",
    "- We do not get the quadrants right.\n",
    "- We cannot fix this with the quantities we calculate above.\n",
    "- We can only fix this, when we know if the stars are at RA / dec higher or lower than the field center. However, this will break around RA=0 and close to the poles. \n",
    "- We need to rotate the frame to field center = (0, 0). Then correct the quadrants."
   ]
  },
  {
   "cell_type": "code",
   "execution_count": null,
   "id": "0ae43a26-3a74-46f5-bfab-86ae3e980f69",
   "metadata": {},
   "outputs": [],
   "source": []
  }
 ],
 "metadata": {
  "kernelspec": {
   "display_name": "Python 3 (ipykernel)",
   "language": "python",
   "name": "python3"
  },
  "language_info": {
   "codemirror_mode": {
    "name": "ipython",
    "version": 3
   },
   "file_extension": ".py",
   "mimetype": "text/x-python",
   "name": "python",
   "nbconvert_exporter": "python",
   "pygments_lexer": "ipython3",
   "version": "3.9.18"
  },
  "toc-autonumbering": true
 },
 "nbformat": 4,
 "nbformat_minor": 5
}
