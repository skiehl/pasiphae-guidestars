{
 "cells": [
  {
   "cell_type": "markdown",
   "id": "dc1d0f80-c663-499a-bbb7-86a3cd1e6606",
   "metadata": {},
   "source": [
    "# Test guide star selection"
   ]
  },
  {
   "cell_type": "markdown",
   "id": "c7561b3c-7344-4b33-be32-8287f242179a",
   "metadata": {},
   "source": [
    "**Question:** Down to which magnitude do we have to go to find at least one guide star for each Pasiphae survey field?"
   ]
  },
  {
   "cell_type": "code",
   "execution_count": 1,
   "id": "47549a3d-a394-4f55-89b7-5daf7f1e5062",
   "metadata": {},
   "outputs": [],
   "source": [
    "%load_ext autoreload\n",
    "%autoreload 2"
   ]
  },
  {
   "cell_type": "code",
   "execution_count": 2,
   "id": "ffc8ba51-bd2a-459f-8f3c-5e13cdb31b33",
   "metadata": {},
   "outputs": [],
   "source": [
    "from astropy.coordinates import Angle, SkyCoord\n",
    "import astropy.units as u\n",
    "from astropy.io.votable import parse\n",
    "from datetime import datetime\n",
    "#import matplotlib.pyplot as plt\n",
    "import numpy as np\n",
    "import os\n",
    "from pandas import DataFrame\n",
    "import pickle\n",
    "#import seaborn as sns\n",
    "\n",
    "from fieldgrid import FieldGridIsoLat\n",
    "from guidestars import GuideStarWalopN, GuideStarWalopS, load_gaia"
   ]
  },
  {
   "cell_type": "markdown",
   "id": "a98e1dce-13a8-427c-bd30-ff41716e23ee",
   "metadata": {},
   "source": [
    "## WALOP-S"
   ]
  },
  {
   "cell_type": "markdown",
   "id": "8405ed34-e793-474b-8e1b-36b49e0e9fc8",
   "metadata": {},
   "source": [
    "### Create Southern field grid"
   ]
  },
  {
   "cell_type": "code",
   "execution_count": 3,
   "id": "db520dad-e395-46d7-8d88-480f5b325639",
   "metadata": {},
   "outputs": [
    {
     "name": "stdout",
     "output_type": "stream",
     "text": [
      "Create fields..\n",
      "    Done                                                    \n",
      "Final number of fields: 61630\n",
      "Grid parameters loaded from grid_pasiphae_s.json.\n"
     ]
    }
   ],
   "source": [
    "grid = FieldGridIsoLat(verbose=1)\n",
    "grid.load_params('grid_pasiphae_s.json')"
   ]
  },
  {
   "cell_type": "markdown",
   "id": "b6002cbc-bd0c-462c-a220-a8a4956e5990",
   "metadata": {},
   "source": [
    "### Set up guide star selector"
   ]
  },
  {
   "cell_type": "code",
   "execution_count": 4,
   "id": "5e0db3eb-de63-4af5-8035-2eaa93bdc4c6",
   "metadata": {},
   "outputs": [],
   "source": [
    "selector = GuideStarWalopS()"
   ]
  },
  {
   "cell_type": "markdown",
   "id": "bbdc87f0-7627-40b9-a8b0-5526052111e5",
   "metadata": {},
   "source": [
    "Define parameters:"
   ]
  },
  {
   "cell_type": "code",
   "execution_count": 7,
   "id": "44f0b8ee-f67a-4438-b86c-9e5960be9ed1",
   "metadata": {},
   "outputs": [],
   "source": [
    "scale_arcmin = 0.23 # arcmin / mm\n",
    "scale = np.radians(scale_arcmin / 60) # rad / mm\n",
    "circle_radius = np.sqrt((180/2+15)**2*2) # mm\n",
    "circle_offset = 15 # mm\n",
    "field_size = 180 # mm\n",
    "cam_size = [6.4, 4.75] # mm\n",
    "guide_area = [(90, -55), (125, -55), (125, 60), (60, 125), (-55, 125), (-55, 90), (90, 90)] ## mm\n",
    "instr_rot = 0 # rad\n",
    "limit_arcmin = 1 # arcmin\n",
    "limit = limit_arcmin / scale_arcmin\n",
    "home_pos = (125, 125)\n",
    "scale_xy = 1 / scale # mm / rad\n",
    "n_min = 2\n",
    "n_max = 3"
   ]
  },
  {
   "cell_type": "code",
   "execution_count": 8,
   "id": "e3c1683e-9596-4772-927e-deae87133b15",
   "metadata": {},
   "outputs": [],
   "source": [
    "selector.set_params(\n",
    "        circle_radius, circle_offset, field_size, cam_size, guide_area, home_pos, instr_rot=instr_rot, limit=limit, \n",
    "        scale=scale, scale_xy=scale_xy, n_min=n_min, n_max=n_max)"
   ]
  },
  {
   "cell_type": "markdown",
   "id": "d3f8b83c-856a-4774-9ba7-a9fd9a919fba",
   "metadata": {},
   "source": [
    "Save/load parameters to/from JSON file:"
   ]
  },
  {
   "cell_type": "code",
   "execution_count": 9,
   "id": "85256bf7-5646-433e-bd79-6228532b1cdb",
   "metadata": {},
   "outputs": [
    {
     "name": "stdout",
     "output_type": "stream",
     "text": [
      "Guide parameters saved in: guide_walop_s.json\n"
     ]
    }
   ],
   "source": [
    "selector.save_params('guide_walop_s.json')"
   ]
  },
  {
   "cell_type": "markdown",
   "id": "35f6be77-b68e-4253-a506-ea85a7b39686",
   "metadata": {},
   "source": [
    "### Read initial set of brightest Gaia stars"
   ]
  },
  {
   "cell_type": "code",
   "execution_count": 14,
   "id": "5a7f0f75-6609-41b4-8e27-0fbf8394ac9a",
   "metadata": {},
   "outputs": [
    {
     "name": "stdout",
     "output_type": "stream",
     "text": [
      "Read VOTable 1/2..\n",
      "Read VOTable 2/2..\n",
      "# stars: 300848\n"
     ]
    }
   ],
   "source": [
    "dir_in = 'gaia/'\n",
    "votable_files = 'gaia_g_mag12_b28.vot'\n",
    "\n",
    "gaia_ra, gaia_dec, gaia_mag = load_gaia(votable_files, dir_in=dir_in, dec_uplim=1)\n",
    "print('# stars:', gaia_mag.shape[0])"
   ]
  },
  {
   "cell_type": "markdown",
   "id": "eec32159-ef40-4487-8b35-ea434a920e22",
   "metadata": {},
   "source": [
    "Separate bright stars:"
   ]
  },
  {
   "cell_type": "code",
   "execution_count": 15,
   "id": "e0beb622-ba12-4e97-bbff-806b7083f7f7",
   "metadata": {},
   "outputs": [
    {
     "name": "stdout",
     "output_type": "stream",
     "text": [
      "8766 bright stars separated.\n"
     ]
    }
   ],
   "source": [
    "gaia_mag_limit = 7\n",
    "sel = gaia_mag < gaia_mag_limit\n",
    "gaia_bright_ra = gaia_ra[sel]\n",
    "gaia_bright_dec = gaia_dec[sel]\n",
    "gaia_ra = gaia_ra[~sel]\n",
    "gaia_dec = gaia_dec[~sel]\n",
    "gaia_mag = gaia_mag[~sel]\n",
    "print(f'{np.sum(sel)} bright stars separated.')"
   ]
  },
  {
   "cell_type": "markdown",
   "id": "23e26411-614b-4b97-b017-7f45b7c80102",
   "metadata": {},
   "source": [
    "Add bright stars that should be avoided:"
   ]
  },
  {
   "cell_type": "code",
   "execution_count": 16,
   "id": "90e05e8a-77f3-4538-9e12-a4a626861190",
   "metadata": {},
   "outputs": [
    {
     "name": "stdout",
     "output_type": "stream",
     "text": [
      "8766 coordinates of bright stars set that will be avoided in the guide camera.\n"
     ]
    }
   ],
   "source": [
    "selector.set_stars_to_avoid(np.radians(gaia_bright_ra), np.radians(gaia_bright_dec))"
   ]
  },
  {
   "cell_type": "markdown",
   "id": "7901d0fa-b5ba-44d6-beab-893d8bdd4aac",
   "metadata": {},
   "source": [
    "Add stars:"
   ]
  },
  {
   "cell_type": "code",
   "execution_count": 17,
   "id": "9df5513d-3739-4c6c-b1a6-26135ed242e1",
   "metadata": {},
   "outputs": [
    {
     "name": "stdout",
     "output_type": "stream",
     "text": [
      "292082 candidate stars added.\n",
      "Magnitude range: 7.0 - 11.0\n"
     ]
    }
   ],
   "source": [
    "selector.set_stars(np.radians(gaia_ra), np.radians(gaia_dec), gaia_mag)"
   ]
  },
  {
   "cell_type": "markdown",
   "id": "b1d8f8db-f33d-4c30-9a34-3627c34016f3",
   "metadata": {},
   "source": [
    "### Select guide stars"
   ]
  },
  {
   "cell_type": "code",
   "execution_count": 18,
   "id": "389e6dd7-9640-4589-9323-cc15d64d9a1c",
   "metadata": {},
   "outputs": [
    {
     "name": "stdout",
     "output_type": "stream",
     "text": [
      "Iterate through field grid..\n",
      "  done.                             \n",
      "\n",
      "WARNING: Not all fields have the required minimum number of guide stars (2) available.\n",
      "\n",
      "Results:\n",
      "--------------------------------------------\n",
      "Guide stars selected:         121961\n",
      "Fields without guide stars:     6793 (11.0%)\n",
      "--------------------------------------------\n",
      "Median number of field stars:      2\n",
      "Mean number of field stars:        2\n",
      "Max number of field stars:         3\n",
      "--------------------------------------------\n",
      "No. of guide stars: No. of fields\n",
      " 0: 6793\n",
      " 1: 13825\n",
      " 2: 14900\n",
      " 3: 26112\n",
      "--------------------------------------------\n",
      "\n",
      "Runtime: 1:14:46.757847\n"
     ]
    }
   ],
   "source": [
    "runtime_start = datetime.now()\n",
    "guidestars = selector.select(fieldgrid=grid, verbose=2)\n",
    "print('\\nRuntime:', datetime.now() - runtime_start)"
   ]
  },
  {
   "cell_type": "markdown",
   "id": "950911bc-73c8-4d4d-8a1f-167a4a466d63",
   "metadata": {},
   "source": [
    "Save guide stars and selector:"
   ]
  },
  {
   "cell_type": "code",
   "execution_count": 19,
   "id": "adf2607a-0e4e-4dfd-af61-5fb959cae427",
   "metadata": {},
   "outputs": [],
   "source": [
    "with open('pickles/guidestars_S.pickle', mode='wb') as f:\n",
    "    pickle.dump(guidestars, f)\n",
    "with open('pickles/selector_S.pickle', mode='wb') as f:\n",
    "    pickle.dump(selector, f)"
   ]
  },
  {
   "cell_type": "markdown",
   "id": "b079bc46-c2df-453f-9711-50b07f6e67ce",
   "metadata": {},
   "source": [
    "### Add fainter stars for selection"
   ]
  },
  {
   "cell_type": "markdown",
   "id": "9b405d82-fe28-4e67-9a41-46fc96d49f35",
   "metadata": {},
   "source": [
    "Go deeper:"
   ]
  },
  {
   "cell_type": "code",
   "execution_count": 20,
   "id": "f123de33-3f81-43e2-aef5-3676bf328918",
   "metadata": {},
   "outputs": [
    {
     "name": "stdout",
     "output_type": "stream",
     "text": [
      "Read VOTable 1/1..\n",
      "# stars: 351856\n"
     ]
    }
   ],
   "source": [
    "votable_files = 'gaia_g_mag12-13_b28.vot'\n",
    "\n",
    "gaia_ra, gaia_dec, gaia_mag = load_gaia(votable_files, dir_in=dir_in, dec_uplim=1)\n",
    "print('# stars:', gaia_mag.shape[0])"
   ]
  },
  {
   "cell_type": "code",
   "execution_count": 21,
   "id": "e2ffefbe-ef9c-49be-ab0d-95ad9356f2d3",
   "metadata": {},
   "outputs": [
    {
     "name": "stdout",
     "output_type": "stream",
     "text": [
      "Overwriting previous stars..\n",
      "351856 candidate stars added.\n",
      "Magnitude range: 11.0 - 12.0\n",
      "\n",
      "20618 field do not have enough guide stars. Search for more..\n",
      "  done.                             \n",
      "\n",
      "WARNING: Not all fields have the required minimum number of guide stars (2) available.\n",
      "\n",
      "Results:\n",
      "--------------------------------------------\n",
      "Guide stars selected:         145167\n",
      "Fields without guide stars:      718 (1.2%)\n",
      "--------------------------------------------\n",
      "Median number of field stars:      2\n",
      "Mean number of field stars:        2\n",
      "Max number of field stars:         3\n",
      "\n",
      "Runtime: 0:20:28.243965\n"
     ]
    }
   ],
   "source": [
    "runtime_start = datetime.now()\n",
    "selector.set_stars(np.radians(gaia_ra), np.radians(gaia_dec), gaia_mag)\n",
    "print('\\nRuntime:', datetime.now() - runtime_start)"
   ]
  },
  {
   "cell_type": "markdown",
   "id": "0502e135-d562-4b99-8d2a-95a7611bd6db",
   "metadata": {},
   "source": [
    "Go deeper:"
   ]
  },
  {
   "cell_type": "code",
   "execution_count": 22,
   "id": "569777c1-ccd0-4eb7-860a-2797888715b8",
   "metadata": {},
   "outputs": [
    {
     "name": "stdout",
     "output_type": "stream",
     "text": [
      "Read VOTable 1/1..\n",
      "# stars: 712469\n"
     ]
    }
   ],
   "source": [
    "votable_files = 'gaia_g_mag13-14_b28.vot'\n",
    "\n",
    "gaia_ra, gaia_dec, gaia_mag = load_gaia(votable_files, dir_in=dir_in, dec_uplim=1)\n",
    "print('# stars:', gaia_mag.shape[0])"
   ]
  },
  {
   "cell_type": "code",
   "execution_count": 23,
   "id": "0edef0e3-939d-47a2-ac5b-4f857f859bcb",
   "metadata": {},
   "outputs": [
    {
     "name": "stdout",
     "output_type": "stream",
     "text": [
      "Overwriting previous stars..\n",
      "712469 candidate stars added.\n",
      "Magnitude range: 12.0 - 13.0\n",
      "\n",
      "3487 field do not have enough guide stars. Search for more..\n",
      "  done.                             \n",
      "\n",
      "WARNING: Not all fields have the required minimum number of guide stars (2) available.\n",
      "\n",
      "Results:\n",
      "--------------------------------------------\n",
      "Guide stars selected:         149242\n",
      "Fields without guide stars:       11 (0.0%)\n",
      "--------------------------------------------\n",
      "Median number of field stars:      2\n",
      "Mean number of field stars:        2\n",
      "Max number of field stars:         3\n",
      "\n",
      "Runtime: 0:06:16.478579\n"
     ]
    }
   ],
   "source": [
    "runtime_start = datetime.now()\n",
    "selector.set_stars(np.radians(gaia_ra), np.radians(gaia_dec), gaia_mag)\n",
    "print('\\nRuntime:', datetime.now() - runtime_start)"
   ]
  },
  {
   "cell_type": "markdown",
   "id": "e7897449-0410-43d4-a51e-3bfa837c46c3",
   "metadata": {},
   "source": [
    "Final status:"
   ]
  },
  {
   "cell_type": "code",
   "execution_count": 26,
   "id": "e17d03fb-8ecf-4c3f-be70-b612ceae0e6c",
   "metadata": {},
   "outputs": [
    {
     "name": "stdout",
     "output_type": "stream",
     "text": [
      "Results:\n",
      "--------------------------------------------\n",
      "Guide stars selected:         149371\n",
      "Fields without guide stars:        0 (0.0%)\n",
      "--------------------------------------------\n",
      "Median number of field stars:      2\n",
      "Mean number of field stars:        2\n",
      "Max number of field stars:         3\n",
      "--------------------------------------------\n",
      "No. of guide stars: No. of fields\n",
      " 1:   1\n",
      " 2: 35517\n",
      " 3: 26112\n",
      "--------------------------------------------\n"
     ]
    }
   ],
   "source": [
    "selector.check_results(verbose=2)"
   ]
  },
  {
   "cell_type": "markdown",
   "id": "327077c5-2609-4939-b12b-4d2b87269aa8",
   "metadata": {},
   "source": [
    "### Save guide stars"
   ]
  },
  {
   "cell_type": "code",
   "execution_count": 27,
   "id": "2063db9e-241f-4b3c-86b7-6833a105ebcc",
   "metadata": {},
   "outputs": [],
   "source": [
    "with open('pickles/guidestars_S.pickle', mode='wb') as f:\n",
    "    pickle.dump(guidestars, f)\n",
    "with open('pickles/selector_S.pickle', mode='wb') as f:\n",
    "    pickle.dump(selector, f)"
   ]
  },
  {
   "cell_type": "markdown",
   "id": "60c873f9-05ff-4e3b-bdab-357302b49100",
   "metadata": {},
   "source": [
    "### Conclusion for WALOP-S"
   ]
  },
  {
   "cell_type": "markdown",
   "id": "b45feb21-53b1-4675-9a75-af9a05983300",
   "metadata": {},
   "source": [
    "For WALOP-S we are able to identify at least one guide star for each field if we search down to **14 mag**. This is far from the limit of 16 mag."
   ]
  },
  {
   "cell_type": "markdown",
   "id": "a6d3f3ad-8113-4891-ab14-cbf352efaa7e",
   "metadata": {},
   "source": [
    "## WALOP-N"
   ]
  },
  {
   "cell_type": "markdown",
   "id": "146393cd-da22-4b2a-9045-43717ee31619",
   "metadata": {},
   "source": [
    "### Create Nouthern field grid"
   ]
  },
  {
   "cell_type": "code",
   "execution_count": 3,
   "id": "2ca86b71-daa2-475b-8a4b-35e9b2c89759",
   "metadata": {},
   "outputs": [
    {
     "name": "stdout",
     "output_type": "stream",
     "text": [
      "Create fields..\n",
      "    Done                                                    \n",
      "Final number of fields: 83685\n",
      "Grid parameters loaded from grid_pasiphae_n.json.\n"
     ]
    }
   ],
   "source": [
    "grid = FieldGridIsoLat(verbose=1)\n",
    "grid.load_params('grid_pasiphae_n.json')"
   ]
  },
  {
   "cell_type": "markdown",
   "id": "b85584a9-48eb-4571-9f65-4346d1f47858",
   "metadata": {},
   "source": [
    "### Set up guide star selector"
   ]
  },
  {
   "cell_type": "code",
   "execution_count": 10,
   "id": "cfd16419-506b-40f0-8a89-1c3439e7c86e",
   "metadata": {},
   "outputs": [],
   "source": [
    "selector = GuideStarWalopN()"
   ]
  },
  {
   "cell_type": "markdown",
   "id": "14793d7a-1f2b-477f-b01b-292f0277fd8c",
   "metadata": {},
   "source": [
    "Define parameters:"
   ]
  },
  {
   "cell_type": "code",
   "execution_count": 11,
   "id": "66c1caf6-488e-4d5d-ac3f-b6792a3e984a",
   "metadata": {},
   "outputs": [],
   "source": [
    "guide_radius = 22.5 * 60 # arcsec\n",
    "field_size = 30 * 60 # arcsec\n",
    "cam_size = [72, 36] # arcsec\n",
    "home_pos = np.radians(0) # radians\n",
    "limit = 0 # arcsec\n",
    "scale = np.radians(1 / 3600) # rad / arcsec\n",
    "scale_rot = 180 / np.pi # degrees / radian\n",
    "n_min = 2\n",
    "n_max = 3"
   ]
  },
  {
   "cell_type": "code",
   "execution_count": 12,
   "id": "1616025e-0966-43b8-a3f6-80908661d4d1",
   "metadata": {},
   "outputs": [],
   "source": [
    "selector.set_params(\n",
    "        guide_radius, field_size, cam_size, home_pos, limit=0,\n",
    "        scale=scale, scale_rot=scale_rot, n_min=n_min, n_max=n_max)"
   ]
  },
  {
   "cell_type": "markdown",
   "id": "270da45f-2a13-4261-ac69-70f0e19b970d",
   "metadata": {},
   "source": [
    "Save/load parameters to/from JSON file:"
   ]
  },
  {
   "cell_type": "code",
   "execution_count": 13,
   "id": "4ceb5b05-12a8-4664-8609-698ebd8cb1f0",
   "metadata": {},
   "outputs": [
    {
     "name": "stdout",
     "output_type": "stream",
     "text": [
      "Guide parameters saved in: guide_walop_n.json\n"
     ]
    }
   ],
   "source": [
    "selector.save_params('guide_walop_n.json')"
   ]
  },
  {
   "cell_type": "markdown",
   "id": "19faab1e-18c0-4305-a94b-ca91ec424e75",
   "metadata": {},
   "source": [
    "### Read initial set of brightest Gaia stars"
   ]
  },
  {
   "cell_type": "markdown",
   "id": "e74d98e5-dd01-424c-a205-8069ee7dce55",
   "metadata": {},
   "source": [
    "Helper function:"
   ]
  },
  {
   "cell_type": "code",
   "execution_count": 17,
   "id": "c3b787dd-da7d-4e79-adfe-2437e1b9e8c8",
   "metadata": {},
   "outputs": [
    {
     "name": "stdout",
     "output_type": "stream",
     "text": [
      "Read VOTable 1/2..\n",
      "Read VOTable 2/2..\n",
      "# stars: 270340\n"
     ]
    }
   ],
   "source": [
    "dir_in = 'gaia/'\n",
    "votable_files = 'gaia_g_mag12_b28.vot'\n",
    "\n",
    "gaia_ra, gaia_dec, gaia_mag = load_gaia(votable_files, dir_in=dir_in, dec_lolim=-1)\n",
    "print('# stars:', gaia_mag.shape[0])"
   ]
  },
  {
   "cell_type": "markdown",
   "id": "683f5164-820d-402e-be97-984ab1fa3c39",
   "metadata": {},
   "source": [
    "Separate bright stars:"
   ]
  },
  {
   "cell_type": "code",
   "execution_count": 18,
   "id": "2da441a4-c3d8-4080-b0a7-3ee49868c8ba",
   "metadata": {},
   "outputs": [
    {
     "name": "stdout",
     "output_type": "stream",
     "text": [
      "8149 bright stars separated.\n"
     ]
    }
   ],
   "source": [
    "gaia_mag_limit = 7\n",
    "sel = gaia_mag < gaia_mag_limit\n",
    "gaia_bright_ra = gaia_ra[sel]\n",
    "gaia_bright_dec = gaia_dec[sel]\n",
    "gaia_ra = gaia_ra[~sel]\n",
    "gaia_dec = gaia_dec[~sel]\n",
    "gaia_mag = gaia_mag[~sel]\n",
    "print(f'{np.sum(sel)} bright stars separated.')"
   ]
  },
  {
   "cell_type": "markdown",
   "id": "db8769f5-ad67-4cf1-a7e4-e898e6101422",
   "metadata": {},
   "source": [
    "Add bright stars that should be avoided:"
   ]
  },
  {
   "cell_type": "code",
   "execution_count": 19,
   "id": "e5022356-b3cf-41af-9849-a36a8eb05130",
   "metadata": {},
   "outputs": [
    {
     "name": "stdout",
     "output_type": "stream",
     "text": [
      "8149 coordinates of bright stars set that will be avoided in the guide camera.\n"
     ]
    }
   ],
   "source": [
    "selector.set_stars_to_avoid(np.radians(gaia_bright_ra), np.radians(gaia_bright_dec))"
   ]
  },
  {
   "cell_type": "markdown",
   "id": "cc1ba49c-a939-4d3c-807c-143882d0f298",
   "metadata": {},
   "source": [
    "Add stars:"
   ]
  },
  {
   "cell_type": "code",
   "execution_count": 20,
   "id": "b67b8d92-4e4b-464b-9108-ad4bc00b36e9",
   "metadata": {},
   "outputs": [
    {
     "name": "stdout",
     "output_type": "stream",
     "text": [
      "262191 candidate stars added.\n",
      "Magnitude range: 7.0 - 11.0\n"
     ]
    }
   ],
   "source": [
    "selector.set_stars(np.radians(gaia_ra), np.radians(gaia_dec), gaia_mag)"
   ]
  },
  {
   "cell_type": "markdown",
   "id": "6e966922-9f26-40cc-908e-4c9baf0f3b73",
   "metadata": {},
   "source": [
    "### Select guide stars"
   ]
  },
  {
   "cell_type": "code",
   "execution_count": 21,
   "id": "b9ec7f55-f334-4616-8af9-a907f27b52c9",
   "metadata": {},
   "outputs": [
    {
     "name": "stdout",
     "output_type": "stream",
     "text": [
      "Iterate through field grid..\n",
      "  done.                             \n",
      "\n",
      "WARNING: Not all fields have the required minimum number of guide stars (2) available.\n",
      "\n",
      "Results:\n",
      "--------------------------------------------\n",
      "Guide stars selected:          86388\n",
      "Fields without guide stars:    30182 (36.1%)\n",
      "--------------------------------------------\n",
      "Median number of field stars:      1\n",
      "Mean number of field stars:        1\n",
      "Max number of field stars:         3\n",
      "--------------------------------------------\n",
      "No. of guide stars: No. of fields\n",
      " 0: 30182\n",
      " 1: 29333\n",
      " 2: 15455\n",
      " 3: 8715\n",
      "--------------------------------------------\n",
      "\n",
      "Runtime: 1:18:27.186767\n"
     ]
    }
   ],
   "source": [
    "runtime_start = datetime.now()\n",
    "guidestars = selector.select(fieldgrid=grid, verbose=2)\n",
    "print('\\nRuntime:', datetime.now() - runtime_start)"
   ]
  },
  {
   "cell_type": "markdown",
   "id": "2fde9c94-85dc-48ef-b0e7-e0949272129e",
   "metadata": {},
   "source": [
    "Save guide stars and selector:"
   ]
  },
  {
   "cell_type": "code",
   "execution_count": 22,
   "id": "6144e178-9879-498f-b13f-58b1f7b9349f",
   "metadata": {},
   "outputs": [],
   "source": [
    "with open('pickles/guidestars_N.pickle', mode='wb') as f:\n",
    "    pickle.dump(guidestars, f)\n",
    "with open('pickles/selector_N.pickle', mode='wb') as f:\n",
    "    pickle.dump(selector, f)"
   ]
  },
  {
   "cell_type": "markdown",
   "id": "42a728a2-1596-4fc0-bdf9-0df09cf22d84",
   "metadata": {},
   "source": [
    "### Add fainter stars for selection"
   ]
  },
  {
   "cell_type": "markdown",
   "id": "19cf7fdc-7282-42a7-b54c-1fd4e60612fb",
   "metadata": {},
   "source": [
    "Go deeper:"
   ]
  },
  {
   "cell_type": "code",
   "execution_count": 23,
   "id": "b12e7aa8-82a5-4d5c-b689-8647a59c5127",
   "metadata": {},
   "outputs": [
    {
     "name": "stdout",
     "output_type": "stream",
     "text": [
      "Read VOTable 1/1..\n",
      "# stars: 304045\n"
     ]
    }
   ],
   "source": [
    "votable_files = 'gaia_g_mag12-13_b28.vot'\n",
    "\n",
    "gaia_ra, gaia_dec, gaia_mag = load_gaia(votable_files, dir_in=dir_in, dec_lolim=-1)\n",
    "print('# stars:', gaia_mag.shape[0])"
   ]
  },
  {
   "cell_type": "code",
   "execution_count": 24,
   "id": "d7445ac8-f2a1-4df1-8dda-d2d0e67e1e1c",
   "metadata": {},
   "outputs": [
    {
     "name": "stdout",
     "output_type": "stream",
     "text": [
      "Overwriting previous stars..\n",
      "304045 candidate stars added.\n",
      "Magnitude range: 11.0 - 12.0\n",
      "\n",
      "59515 field do not have enough guide stars. Search for more..\n",
      "  done.                             \n",
      "\n",
      "WARNING: Not all fields have the required minimum number of guide stars (2) available.\n",
      "\n",
      "Results:\n",
      "--------------------------------------------\n",
      "Guide stars selected:         135804\n",
      "Fields without guide stars:    10248 (12.2%)\n",
      "--------------------------------------------\n",
      "Median number of field stars:      2\n",
      "Mean number of field stars:        2\n",
      "Max number of field stars:         3\n",
      "\n",
      "Runtime: 0:51:10.350496\n"
     ]
    }
   ],
   "source": [
    "runtime_start = datetime.now()\n",
    "selector.set_stars(np.radians(gaia_ra), np.radians(gaia_dec), gaia_mag)\n",
    "print('\\nRuntime:', datetime.now() - runtime_start)"
   ]
  },
  {
   "cell_type": "markdown",
   "id": "64c294b8-12a3-49a2-9406-51cb0a00db9d",
   "metadata": {},
   "source": [
    "Go deeper:"
   ]
  },
  {
   "cell_type": "code",
   "execution_count": 25,
   "id": "aebae281-c74d-4809-bfc2-fa63fbd00109",
   "metadata": {},
   "outputs": [
    {
     "name": "stdout",
     "output_type": "stream",
     "text": [
      "Read VOTable 1/1..\n",
      "# stars: 614908\n"
     ]
    }
   ],
   "source": [
    "votable_files = 'gaia_g_mag13-14_b28.vot'\n",
    "\n",
    "gaia_ra, gaia_dec, gaia_mag = load_gaia(votable_files, dir_in=dir_in, dec_lolim=-1)\n",
    "print('# stars:', gaia_mag.shape[0])"
   ]
  },
  {
   "cell_type": "code",
   "execution_count": 26,
   "id": "ee89fadb-3a9e-4dd9-9b78-2a225c6f3060",
   "metadata": {},
   "outputs": [
    {
     "name": "stdout",
     "output_type": "stream",
     "text": [
      "Overwriting previous stars..\n",
      "614908 candidate stars added.\n",
      "Magnitude range: 12.0 - 13.0\n",
      "\n",
      "30033 field do not have enough guide stars. Search for more..\n",
      "  done.                             \n",
      "\n",
      "WARNING: Not all fields have the required minimum number of guide stars (2) available.\n",
      "\n",
      "Results:\n",
      "--------------------------------------------\n",
      "Guide stars selected:         167987\n",
      "Fields without guide stars:     1447 (1.7%)\n",
      "--------------------------------------------\n",
      "Median number of field stars:      2\n",
      "Mean number of field stars:        2\n",
      "Max number of field stars:         3\n",
      "\n",
      "Runtime: 0:45:12.908973\n"
     ]
    }
   ],
   "source": [
    "runtime_start = datetime.now()\n",
    "selector.set_stars(np.radians(gaia_ra), np.radians(gaia_dec), gaia_mag)\n",
    "print('\\nRuntime:', datetime.now() - runtime_start)"
   ]
  },
  {
   "cell_type": "markdown",
   "id": "651cf4b0-8de5-4e77-a54d-3b6135113b74",
   "metadata": {},
   "source": [
    "Go deeper:"
   ]
  },
  {
   "cell_type": "code",
   "execution_count": 27,
   "id": "b5454622-87ed-4aa8-8aba-f9767bd960f2",
   "metadata": {},
   "outputs": [
    {
     "name": "stdout",
     "output_type": "stream",
     "text": [
      "Read VOTable 1/1..\n",
      "# stars: 1165886\n"
     ]
    }
   ],
   "source": [
    "votable_files = 'gaia_g_mag14-14.5_b28.vot'\n",
    "\n",
    "gaia_ra, gaia_dec, gaia_mag = load_gaia(votable_files, dir_in=dir_in, dec_lolim=-1)\n",
    "print('# stars:', gaia_mag.shape[0])"
   ]
  },
  {
   "cell_type": "code",
   "execution_count": 28,
   "id": "46a18f5b-fefc-459f-b112-605456d45ca0",
   "metadata": {},
   "outputs": [
    {
     "name": "stdout",
     "output_type": "stream",
     "text": [
      "Overwriting previous stars..\n",
      "1165886 candidate stars added.\n",
      "Magnitude range: 13.0 - 14.0\n",
      "\n",
      "6651 field do not have enough guide stars. Search for more..\n",
      "  done.                             \n",
      "\n",
      "WARNING: Not all fields have the required minimum number of guide stars (2) available.\n",
      "\n",
      "Results:\n",
      "--------------------------------------------\n",
      "Guide stars selected:         175576\n",
      "Fields without guide stars:       63 (0.1%)\n",
      "--------------------------------------------\n",
      "Median number of field stars:      2\n",
      "Mean number of field stars:        2\n",
      "Max number of field stars:         3\n",
      "\n",
      "Runtime: 0:17:11.329346\n"
     ]
    }
   ],
   "source": [
    "runtime_start = datetime.now()\n",
    "selector.set_stars(np.radians(gaia_ra), np.radians(gaia_dec), gaia_mag)\n",
    "print('\\nRuntime:', datetime.now() - runtime_start)"
   ]
  },
  {
   "cell_type": "markdown",
   "id": "b30c4b9e-5afb-48c8-ab52-7a3bbcbb729e",
   "metadata": {},
   "source": [
    "Go deeper:"
   ]
  },
  {
   "cell_type": "code",
   "execution_count": 36,
   "id": "c2e29a36-62c9-4eef-a7ff-63cc9edaf398",
   "metadata": {},
   "outputs": [
    {
     "name": "stdout",
     "output_type": "stream",
     "text": [
      "Read VOTable 1/1..\n",
      "# stars: 891686\n"
     ]
    }
   ],
   "source": [
    "votable_files = 'gaia_g_mag14.5-15_b28.vot'\n",
    "\n",
    "gaia_ra, gaia_dec, gaia_mag = load_gaia(votable_files, dir_in=dir_in, dec_lolim=-1)\n",
    "print('# stars:', gaia_mag.shape[0])"
   ]
  },
  {
   "cell_type": "code",
   "execution_count": 37,
   "id": "8095b3dd-442a-441a-a1ab-747cc5885bc0",
   "metadata": {},
   "outputs": [
    {
     "name": "stdout",
     "output_type": "stream",
     "text": [
      "Overwriting previous stars..\n",
      "891686 candidate stars added.\n",
      "Magnitude range: 14.0 - 14.5\n",
      "\n",
      "446 field do not have enough guide stars. Search for more..\n",
      "  done.                             \n",
      "\n",
      "WARNING: Not all fields have the required minimum number of guide stars (2) available.\n",
      "\n",
      "Results:\n",
      "--------------------------------------------\n",
      "Guide stars selected:         176011\n",
      "Fields without guide stars:       10 (0.0%)\n",
      "--------------------------------------------\n",
      "Median number of field stars:      2\n",
      "Mean number of field stars:        2\n",
      "Max number of field stars:         3\n",
      "\n",
      "Runtime: 0:01:01.931836\n"
     ]
    }
   ],
   "source": [
    "runtime_start = datetime.now()\n",
    "selector.set_stars(np.radians(gaia_ra), np.radians(gaia_dec), gaia_mag)\n",
    "print('\\nRuntime:', datetime.now() - runtime_start)"
   ]
  },
  {
   "cell_type": "markdown",
   "id": "a23f3175-1db6-4b1d-b58b-53131f54cb5e",
   "metadata": {},
   "source": [
    "Go deeper:"
   ]
  },
  {
   "cell_type": "code",
   "execution_count": 39,
   "id": "bf85d781-b7c5-45dc-b2a6-c2c39fd94822",
   "metadata": {},
   "outputs": [
    {
     "name": "stdout",
     "output_type": "stream",
     "text": [
      "Read VOTable 1/1..\n",
      "# stars: 1160799\n"
     ]
    }
   ],
   "source": [
    "votable_files = 'gaia_g_mag15-15.4_b28.vot'\n",
    "\n",
    "gaia_ra, gaia_dec, gaia_mag = load_gaia(votable_files, dir_in=dir_in, dec_lolim=-1)\n",
    "print('# stars:', gaia_mag.shape[0])"
   ]
  },
  {
   "cell_type": "code",
   "execution_count": 40,
   "id": "c9213653-886b-4748-9ddc-29d26b0e471d",
   "metadata": {},
   "outputs": [
    {
     "name": "stdout",
     "output_type": "stream",
     "text": [
      "Overwriting previous stars..\n",
      "1160799 candidate stars added.\n",
      "Magnitude range: 14.5 - 15.0\n",
      "\n",
      "64 field do not have enough guide stars. Search for more..\n",
      "  done.                             \n",
      "\n",
      "WARNING: Not all fields have the required minimum number of guide stars (2) available.\n",
      "\n",
      "Results:\n",
      "--------------------------------------------\n",
      "Guide stars selected:         176079\n",
      "Fields without guide stars:        1 (0.0%)\n",
      "--------------------------------------------\n",
      "Median number of field stars:      2\n",
      "Mean number of field stars:        2\n",
      "Max number of field stars:         3\n",
      "\n",
      "Runtime: 0:00:10.618434\n"
     ]
    }
   ],
   "source": [
    "runtime_start = datetime.now()\n",
    "selector.set_stars(np.radians(gaia_ra), np.radians(gaia_dec), gaia_mag)\n",
    "print('\\nRuntime:', datetime.now() - runtime_start)"
   ]
  },
  {
   "cell_type": "markdown",
   "id": "0e34dc18-05ef-4bd6-95df-b4e24ea3e39e",
   "metadata": {},
   "source": [
    "Final status:"
   ]
  },
  {
   "cell_type": "code",
   "execution_count": 29,
   "id": "a1544456-fea4-4f27-bbed-c3774142c214",
   "metadata": {},
   "outputs": [
    {
     "name": "stdout",
     "output_type": "stream",
     "text": [
      "Results:\n",
      "--------------------------------------------\n",
      "Guide stars selected:         175576\n",
      "Fields without guide stars:       63 (0.1%)\n",
      "--------------------------------------------\n",
      "Median number of field stars:      2\n",
      "Mean number of field stars:        2\n",
      "Max number of field stars:         3\n",
      "--------------------------------------------\n",
      "No. of guide stars: No. of fields\n",
      " 0:  63\n",
      " 1: 383\n",
      " 2: 74524\n",
      " 3: 8715\n",
      "--------------------------------------------\n"
     ]
    }
   ],
   "source": [
    "selector.check_results(verbose=2)"
   ]
  },
  {
   "cell_type": "markdown",
   "id": "e73dce76-f5c1-40b8-a253-4d53cedbb9d9",
   "metadata": {},
   "source": [
    "### Save guide stars"
   ]
  },
  {
   "cell_type": "code",
   "execution_count": 43,
   "id": "85fb1fc5-6c58-46b0-a4e3-5e0be7b12d60",
   "metadata": {},
   "outputs": [],
   "source": [
    "with open('pickles/guidestars_N.pickle', mode='wb') as f:\n",
    "    pickle.dump(guidestars, f)\n",
    "with open('pickles/selector_N.pickle', mode='wb') as f:\n",
    "    pickle.dump(selector, f)"
   ]
  },
  {
   "cell_type": "markdown",
   "id": "bff2ac32-e1df-42c9-b261-6a8b844d4bd9",
   "metadata": {},
   "source": [
    "### Conclusion for WALOP-N"
   ]
  },
  {
   "cell_type": "markdown",
   "id": "33e59a70-e257-4232-856b-553c71b8d4a7",
   "metadata": {},
   "source": [
    "For WALOP-N we are able to identify at least one guide star for each field if we search down to **15 mag**. This is well below the limit of 16 mag."
   ]
  },
  {
   "cell_type": "code",
   "execution_count": null,
   "id": "e8b4f5a4-6f5f-4846-ac7c-db66d53ad92a",
   "metadata": {},
   "outputs": [],
   "source": []
  }
 ],
 "metadata": {
  "kernelspec": {
   "display_name": "Python 3 (ipykernel)",
   "language": "python",
   "name": "python3"
  },
  "language_info": {
   "codemirror_mode": {
    "name": "ipython",
    "version": 3
   },
   "file_extension": ".py",
   "mimetype": "text/x-python",
   "name": "python",
   "nbconvert_exporter": "python",
   "pygments_lexer": "ipython3",
   "version": "3.9.18"
  },
  "toc-autonumbering": true
 },
 "nbformat": 4,
 "nbformat_minor": 5
}
