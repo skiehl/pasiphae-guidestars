{
 "cells": [
  {
   "cell_type": "markdown",
   "id": "f4d03eaa-b8fb-4012-b3ac-5aec91aa7c47",
   "metadata": {},
   "source": [
    "# Test runtime of guide star selection"
   ]
  },
  {
   "cell_type": "markdown",
   "id": "f1b044bc-2507-49dc-a5cb-77010c3b7b34",
   "metadata": {},
   "source": [
    "**Context:** The guide star selection code was initilly written to pre-select guide stars for all Pasiphae survey fields. However, due to pointing inaccuracies, the pre-selected guide stars may not actually fall into the guide camera. Instead of a pointing correction which is time consuming, we decided to accept pointing inaccuracies, which we expect not to have a significant impact on the science case. However, this means that the pre-selection of guide stars does not work and we have to do it on-the-fly. This is a two step process after the telescope reached its position:\n",
    "1. Take an exposure, then resolve the WCS to find the actual position.\n",
    "2. Identify guide stars for that exact position.\n",
    "\n",
    "John is working in step 1. The guide star selection code is used for step 2.\n",
    "\n",
    "**Questions:**\n",
    "1. How much time does it take to identify guide stars for a specific position?\n",
    "1. How much memory space does the selector require with all pre-loaded Gaia stars?\n",
    "1. Is this feasible?"
   ]
  },
  {
   "cell_type": "code",
   "execution_count": 35,
   "id": "6e97bcf9-53d6-4662-b191-44e03b0ed359",
   "metadata": {},
   "outputs": [
    {
     "name": "stdout",
     "output_type": "stream",
     "text": [
      "The autoreload extension is already loaded. To reload it, use:\n",
      "  %reload_ext autoreload\n"
     ]
    }
   ],
   "source": [
    "%load_ext autoreload\n",
    "%autoreload 2"
   ]
  },
  {
   "cell_type": "code",
   "execution_count": 36,
   "id": "382a9ab2-5f7f-4210-be8f-9bbd79d79200",
   "metadata": {},
   "outputs": [],
   "source": [
    "from astropy.coordinates import Angle, SkyCoord\n",
    "import astropy.units as u\n",
    "from astropy.io.votable import parse\n",
    "from datetime import datetime\n",
    "import numpy as np\n",
    "import os\n",
    "from pandas import DataFrame\n",
    "import seaborn as sns\n",
    "import sys\n",
    "\n",
    "from fieldgrid import FieldGridIsoLat\n",
    "from guidestars import GuideStarWalopN, GuideStarWalopS, load_gaia\n",
    "from utilities import cart_to_sphere"
   ]
  },
  {
   "cell_type": "markdown",
   "id": "78884ba3-42f6-4451-b910-234a95234d2e",
   "metadata": {},
   "source": [
    "## Sampling functions"
   ]
  },
  {
   "cell_type": "markdown",
   "id": "ef0d5b0d-b0b3-4f3c-841b-30d594caf677",
   "metadata": {},
   "source": [
    "Based on the methods in `fieldgrid.py`:"
   ]
  },
  {
   "cell_type": "code",
   "execution_count": 37,
   "id": "941e79ee-018e-43e1-9696-6a6362cd0bc5",
   "metadata": {},
   "outputs": [],
   "source": [
    "def in_galactic_plane(gal_lat_lim, ra, dec):\n",
    "        \"\"\"Check which fields are located within the Galactic latitude limits.\n",
    "\n",
    "        Parameters\n",
    "        ----------\n",
    "        gal_lat_lim : float\n",
    "            Galactic latitude limit in radians. If the limit is X, fields with\n",
    "            Galactic latitude in [-X, X] are flagged.\n",
    "        ra : np.ndarray\n",
    "            Field center right ascensions in radians. The default is None\n",
    "        dec : np.ndarray\n",
    "            Field center declinations in radians. The default is None\n",
    "\n",
    "        Returns\n",
    "        -------\n",
    "        np.ndarray\n",
    "            Boolean array. Fields within the Galactic plane limits are marked\n",
    "            as True, otherwise as False.\n",
    "        \"\"\"\n",
    "\n",
    "        # stop if Galactic latitude limit is 0:\n",
    "        if not gal_lat_lim:\n",
    "            return np.zeros(n_fields, dtype=bool)\n",
    "\n",
    "        # check:\n",
    "        coord = SkyCoord(ra, dec, unit='rad', frame='icrs')\n",
    "        coord = coord.transform_to('galactic')\n",
    "        sel = np.logical_and(\n",
    "                coord.b.rad < gal_lat_lim,\n",
    "                coord.b.rad > -gal_lat_lim)\n",
    "\n",
    "        return sel"
   ]
  },
  {
   "cell_type": "code",
   "execution_count": 38,
   "id": "6b5667f4-08ce-4af0-b308-4813c7f3e843",
   "metadata": {},
   "outputs": [],
   "source": [
    "def sample_spherical(n_points, dec_lim_north=np.pi/2, dec_lim_south=-np.pi/2, gal_lat_lim=0):\n",
    "    \"\"\"Draw random samples uniformly over the sky.\n",
    "\n",
    "    Parameters\n",
    "    ----------\n",
    "    n_points : int\n",
    "        Number of random samples.\n",
    "    dec_lim_north : float, optional\n",
    "        Northern declination limit in radian. The default is np.pi/2.\n",
    "    dec_lim_south : float, optional\n",
    "        Southern declination limit in radian. The default is -np.pi/2.\n",
    "    gal_lat_lim : float, optional\n",
    "        Galactic latitude limit in radians. If the limit is X, points with\n",
    "        Galactic latitude in [-X, X] are excluded. The default is 0.\n",
    "\n",
    "    Returns\n",
    "    -------\n",
    "    ra : np.ndarray\n",
    "        Right ascensions of the randomly samples points in radians.\n",
    "    dec : np.ndarray\n",
    "        Declinations of the randomly samples points in radians.\n",
    "    \"\"\"\n",
    "\n",
    "    ra = []\n",
    "    dec = []\n",
    "    n_needed = n_points\n",
    "\n",
    "    while True:\n",
    "        vec = np.random.randn(3, n_points)\n",
    "        vec /= np.linalg.norm(vec, axis=0)\n",
    "        more_ras, more_decs = cart_to_sphere(vec[0], vec[1], vec[2])\n",
    "        sel = np.logical_and(more_decs >= dec_lim_south, more_decs <= dec_lim_north)\n",
    "        more_ras = more_ras[sel]\n",
    "        more_decs = more_decs[sel]\n",
    "        sel = in_galactic_plane(gal_lat_lim, more_ras, more_decs)\n",
    "        more_ras = more_ras[~sel][:n_needed]\n",
    "        more_decs = more_decs[~sel][:n_needed]\n",
    "        ra.append(more_ras)\n",
    "        dec.append(more_decs)\n",
    "        n_needed -= more_ras.shape[0]\n",
    "\n",
    "        if n_needed < 1:\n",
    "            break\n",
    "\n",
    "    ra = np.concatenate(ra)\n",
    "    dec = np.concatenate(dec)\n",
    "\n",
    "    return ra, dec"
   ]
  },
  {
   "cell_type": "markdown",
   "id": "9c161091-4d9b-445c-8ada-3702c7a7e6f8",
   "metadata": {},
   "source": [
    "## WALOP-S"
   ]
  },
  {
   "cell_type": "markdown",
   "id": "71577717-f649-4faf-9e67-afd31389e9bc",
   "metadata": {},
   "source": [
    "### Set up guide star selector"
   ]
  },
  {
   "cell_type": "code",
   "execution_count": 39,
   "id": "b9925bae-8aa8-4c9a-814e-0cea40092750",
   "metadata": {},
   "outputs": [],
   "source": [
    "selector = GuideStarWalopS()"
   ]
  },
  {
   "cell_type": "markdown",
   "id": "6c65999b-3d41-479e-95ed-e4ccf8736a3e",
   "metadata": {},
   "source": [
    "Set parameters:"
   ]
  },
  {
   "cell_type": "code",
   "execution_count": 40,
   "id": "1ee3ccb1-5d6a-496f-8d96-98db6fe0fb8b",
   "metadata": {},
   "outputs": [
    {
     "name": "stdout",
     "output_type": "stream",
     "text": [
      "Parameters loaded from guide_walop_s.json.\n"
     ]
    }
   ],
   "source": [
    "selector.load_params('guide_walop_s.json')"
   ]
  },
  {
   "cell_type": "markdown",
   "id": "f5cb3a66-750b-4a2b-b932-ab513091baa7",
   "metadata": {},
   "source": [
    "Read in Gaia stars:"
   ]
  },
  {
   "cell_type": "code",
   "execution_count": 41,
   "id": "c8892f01-1d45-4dbe-9f9b-6e509ef93596",
   "metadata": {},
   "outputs": [
    {
     "name": "stdout",
     "output_type": "stream",
     "text": [
      "Read VOTable 1/3..\n",
      "Read VOTable 2/3..\n",
      "Read VOTable 3/3..\n",
      "# stars: 1818306\n"
     ]
    }
   ],
   "source": [
    "dir_in = 'gaia/'\n",
    "votable_files = [\n",
    "        'gaia_g_mag12_b28.vot', 'gaia_g_mag12-13_b28.vot', 'gaia_g_mag13-14_b28.vot']\n",
    "\n",
    "gaia_ra, gaia_dec, gaia_mag = load_gaia(votable_files, dir_in=dir_in, dec_uplim=1)\n",
    "print('# stars:', gaia_mag.shape[0])"
   ]
  },
  {
   "cell_type": "markdown",
   "id": "915e0747-5dae-4c5d-8cb0-35c73023f470",
   "metadata": {},
   "source": [
    "Separate bright stars:"
   ]
  },
  {
   "cell_type": "code",
   "execution_count": 42,
   "id": "f8c381e6-17e1-4c31-bb32-ed1d6e380e09",
   "metadata": {},
   "outputs": [
    {
     "name": "stdout",
     "output_type": "stream",
     "text": [
      "4383 bright stars separated.\n"
     ]
    }
   ],
   "source": [
    "gaia_mag_limit = 7\n",
    "sel = gaia_mag < gaia_mag_limit\n",
    "gaia_bright_ra = gaia_ra[sel]\n",
    "gaia_bright_dec = gaia_dec[sel]\n",
    "gaia_ra = gaia_ra[~sel]\n",
    "gaia_dec = gaia_dec[~sel]\n",
    "gaia_mag = gaia_mag[~sel]\n",
    "print(f'{np.sum(sel)} bright stars separated.')"
   ]
  },
  {
   "cell_type": "markdown",
   "id": "8304cc50-74ba-4feb-a310-c4df3261a8b1",
   "metadata": {},
   "source": [
    "Add bright stars that should be avoided:"
   ]
  },
  {
   "cell_type": "code",
   "execution_count": 43,
   "id": "9cc4028c-3dd9-45b0-be4d-88dd918e6c41",
   "metadata": {},
   "outputs": [
    {
     "name": "stdout",
     "output_type": "stream",
     "text": [
      "4383 coordinates of bright stars set that will be avoided in the guide camera.\n"
     ]
    }
   ],
   "source": [
    "selector.set_stars_to_avoid(np.radians(gaia_bright_ra), np.radians(gaia_bright_dec))"
   ]
  },
  {
   "cell_type": "markdown",
   "id": "fd877c3f-6f6b-4437-8ce7-6725bb59fc8f",
   "metadata": {},
   "source": [
    "Add stars:"
   ]
  },
  {
   "cell_type": "code",
   "execution_count": 44,
   "id": "d3232d51-5ccb-4681-afdc-4a2b0641fdb8",
   "metadata": {},
   "outputs": [
    {
     "name": "stdout",
     "output_type": "stream",
     "text": [
      "1813923 candidate stars added.\n",
      "Magnitude range: 7.0 - 14.0\n"
     ]
    }
   ],
   "source": [
    "selector.set_stars(np.radians(gaia_ra), np.radians(gaia_dec), gaia_mag)"
   ]
  },
  {
   "cell_type": "markdown",
   "id": "54370886-0d92-4dcd-a9ba-376971b899ce",
   "metadata": {},
   "source": [
    "How much memory do the stars' coordinates and matnitudes require?"
   ]
  },
  {
   "cell_type": "code",
   "execution_count": 45,
   "id": "04f984a8-e05d-41a2-bfae-56553df065c0",
   "metadata": {},
   "outputs": [],
   "source": [
    "memory_byte = sys.getsizeof(gaia_ra) + sys.getsizeof(gaia_dec) + sys.getsizeof(gaia_mag) \\\n",
    "        + sys.getsizeof(gaia_bright_ra) + sys.getsizeof(gaia_bright_dec)"
   ]
  },
  {
   "cell_type": "code",
   "execution_count": 46,
   "id": "219b098d-d4c8-4b82-9c5f-d697545e779e",
   "metadata": {},
   "outputs": [
    {
     "name": "stdout",
     "output_type": "stream",
     "text": [
      "MB: 36.3\n"
     ]
    }
   ],
   "source": [
    "print(f'MB: {memory_byte/1000000:.1f}') "
   ]
  },
  {
   "cell_type": "code",
   "execution_count": 47,
   "id": "8ec3f84f-4194-4872-9277-029e746b9dae",
   "metadata": {},
   "outputs": [],
   "source": [
    "del gaia_ra, gaia_dec, gaia_mag, gaia_bright_ra, gaia_bright_dec"
   ]
  },
  {
   "cell_type": "markdown",
   "id": "e8f437ff-6400-42a9-a574-e9aa30d80666",
   "metadata": {},
   "source": [
    "Magnitude to exposure time conversion function:"
   ]
  },
  {
   "cell_type": "code",
   "execution_count": 48,
   "id": "a4d10e8c-6df5-4b65-a10c-ec9bb701ecbe",
   "metadata": {},
   "outputs": [],
   "source": [
    "mag_ref = 16\n",
    "exp_ref = 5 # sec\n",
    "exp_min = 1 # sec\n",
    "mag_to_exp = lambda mag: np.maximum(exp_ref * 10**((mag - mag_ref) / 2.5), exp_min)"
   ]
  },
  {
   "cell_type": "markdown",
   "id": "744e82b3-2599-4d2b-b6f0-246b7b099d7c",
   "metadata": {},
   "source": [
    "### Test"
   ]
  },
  {
   "cell_type": "markdown",
   "id": "e9ffc0ca-a0cd-4d67-a471-e6f107243234",
   "metadata": {},
   "source": [
    "Sample test points:"
   ]
  },
  {
   "cell_type": "code",
   "execution_count": 49,
   "id": "50b8ab8f-e8e7-44e7-8762-1c6559fed15b",
   "metadata": {},
   "outputs": [],
   "source": [
    "n_points = 100\n",
    "test_ra, test_dec = sample_spherical(n_points, dec_lim_north=0, gal_lat_lim=np.radians(30))"
   ]
  },
  {
   "cell_type": "markdown",
   "id": "38c22705-b262-47d2-963d-5706be62f3da",
   "metadata": {},
   "source": [
    "Run test:"
   ]
  },
  {
   "cell_type": "code",
   "execution_count": 50,
   "id": "820d3c9f-07e6-49e6-a9ff-440ad89ba586",
   "metadata": {},
   "outputs": [
    {
     "name": "stdout",
     "output_type": "stream",
     "text": [
      "Progress: done.     \n"
     ]
    }
   ],
   "source": [
    "runtime = []\n",
    "n_guidestars = []\n",
    "\n",
    "for i, (ra, dec) in enumerate(zip(test_ra, test_dec)):\n",
    "    print(f'\\rProgress: {i*100/n_points:.1f}%', end='')\n",
    "    runtime_start = datetime.now()\n",
    "    guidestars = selector.select(field_ra=ra, field_dec=dec, mag_to_exp=mag_to_exp, return_coord=False)\n",
    "    runtime.append((datetime.now() - runtime_start).total_seconds())\n",
    "    n_guidestars.append(len(guidestars))\n",
    "    \n",
    "results = DataFrame({'runtime (s)': runtime, 'n_guidestars': n_guidestars})\n",
    "del runtime, n_guidestars\n",
    "print('\\rProgress: done.     ')"
   ]
  },
  {
   "cell_type": "markdown",
   "id": "93fb08c4-cb52-4fc3-bc5f-76930e6c9ae4",
   "metadata": {},
   "source": [
    "### Results"
   ]
  },
  {
   "cell_type": "code",
   "execution_count": 51,
   "id": "6b5d4a64-15e4-4512-8aa8-6d36ab2ac3c8",
   "metadata": {},
   "outputs": [
    {
     "data": {
      "image/png": "[encoded data removed]",
      "text/plain": [
       "<Figure size 640x480 with 1 Axes>"
      ]
     },
     "metadata": {},
     "output_type": "display_data"
    }
   ],
   "source": [
    "sns.histplot(data=results, x='runtime (s)');"
   ]
  },
  {
   "cell_type": "code",
   "execution_count": 52,
   "id": "c03cc557-f91d-4468-9b20-f0bc4a738433",
   "metadata": {},
   "outputs": [
    {
     "data": {
      "text/html": [
       "<div>\n",
       "<style scoped>\n",
       "    .dataframe tbody tr th:only-of-type {\n",
       "        vertical-align: middle;\n",
       "    }\n",
       "\n",
       "    .dataframe tbody tr th {\n",
       "        vertical-align: top;\n",
       "    }\n",
       "\n",
       "    .dataframe thead th {\n",
       "        text-align: right;\n",
       "    }\n",
       "</style>\n",
       "<table border=\"1\" class=\"dataframe\">\n",
       "  <thead>\n",
       "    <tr style=\"text-align: right;\">\n",
       "      <th></th>\n",
       "      <th>runtime (s)</th>\n",
       "      <th>n_guidestars</th>\n",
       "    </tr>\n",
       "  </thead>\n",
       "  <tbody>\n",
       "    <tr>\n",
       "      <th>count</th>\n",
       "      <td>100.000000</td>\n",
       "      <td>100.0</td>\n",
       "    </tr>\n",
       "    <tr>\n",
       "      <th>mean</th>\n",
       "      <td>0.288625</td>\n",
       "      <td>3.0</td>\n",
       "    </tr>\n",
       "    <tr>\n",
       "      <th>std</th>\n",
       "      <td>0.030374</td>\n",
       "      <td>0.0</td>\n",
       "    </tr>\n",
       "    <tr>\n",
       "      <th>min</th>\n",
       "      <td>0.262683</td>\n",
       "      <td>3.0</td>\n",
       "    </tr>\n",
       "    <tr>\n",
       "      <th>25%</th>\n",
       "      <td>0.271090</td>\n",
       "      <td>3.0</td>\n",
       "    </tr>\n",
       "    <tr>\n",
       "      <th>50%</th>\n",
       "      <td>0.276231</td>\n",
       "      <td>3.0</td>\n",
       "    </tr>\n",
       "    <tr>\n",
       "      <th>75%</th>\n",
       "      <td>0.294181</td>\n",
       "      <td>3.0</td>\n",
       "    </tr>\n",
       "    <tr>\n",
       "      <th>max</th>\n",
       "      <td>0.418621</td>\n",
       "      <td>3.0</td>\n",
       "    </tr>\n",
       "  </tbody>\n",
       "</table>\n",
       "</div>"
      ],
      "text/plain": [
       "       runtime (s)  n_guidestars\n",
       "count   100.000000         100.0\n",
       "mean      0.288625           3.0\n",
       "std       0.030374           0.0\n",
       "min       0.262683           3.0\n",
       "25%       0.271090           3.0\n",
       "50%       0.276231           3.0\n",
       "75%       0.294181           3.0\n",
       "max       0.418621           3.0"
      ]
     },
     "execution_count": 52,
     "metadata": {},
     "output_type": "execute_result"
    }
   ],
   "source": [
    "results.describe()"
   ]
  },
  {
   "cell_type": "markdown",
   "id": "e68514c4-19b7-458d-9644-7802e14784a5",
   "metadata": {},
   "source": [
    "## WALOP-N"
   ]
  },
  {
   "cell_type": "markdown",
   "id": "527b7a8f-b33e-45e6-9561-ae869ed79394",
   "metadata": {},
   "source": [
    "### Set up guide star selector"
   ]
  },
  {
   "cell_type": "code",
   "execution_count": 53,
   "id": "a53ca345-adda-4d77-a19e-4615bb5c78cf",
   "metadata": {},
   "outputs": [],
   "source": [
    "selector = GuideStarWalopN()"
   ]
  },
  {
   "cell_type": "markdown",
   "id": "4e0d0fb6-881b-46bf-94d3-00a95d79d173",
   "metadata": {},
   "source": [
    "Set parameters:"
   ]
  },
  {
   "cell_type": "code",
   "execution_count": 54,
   "id": "8ffdc416-5f68-4762-93c6-cabd49e0fa88",
   "metadata": {},
   "outputs": [
    {
     "name": "stdout",
     "output_type": "stream",
     "text": [
      "Parameters loaded from guide_walop_n.json.\n"
     ]
    }
   ],
   "source": [
    "selector.load_params('guide_walop_n.json')"
   ]
  },
  {
   "cell_type": "markdown",
   "id": "f2c06760-6349-4a73-a411-9c2eb7eb8767",
   "metadata": {},
   "source": [
    "Read in Gaia stars:"
   ]
  },
  {
   "cell_type": "code",
   "execution_count": 55,
   "id": "d3704fe9-f6b9-4d31-89b1-9f9786a2f1d7",
   "metadata": {},
   "outputs": [
    {
     "name": "stdout",
     "output_type": "stream",
     "text": [
      "Read VOTable 1/6..\n",
      "Read VOTable 2/6..\n",
      "Read VOTable 3/6..\n",
      "Read VOTable 4/6..\n",
      "Read VOTable 5/6..\n",
      "Read VOTable 6/6..\n",
      "# stars: 3790594\n"
     ]
    }
   ],
   "source": [
    "dir_in = 'gaia/'\n",
    "votable_files = [\n",
    "        'gaia_g_mag12_b28.vot', 'gaia_g_mag12-13_b28.vot', 'gaia_g_mag13-14_b28.vot', 'gaia_g_mag14-14.5_b28.vot',\n",
    "        'gaia_g_mag14.5-15_b28.vot', 'gaia_g_mag15-15.4_b28.vot']\n",
    "\n",
    "gaia_ra, gaia_dec, gaia_mag = load_gaia(votable_files, dir_in=dir_in, dec_lolim=-1)\n",
    "print('# stars:', gaia_mag.shape[0])"
   ]
  },
  {
   "cell_type": "markdown",
   "id": "1f91243c-0cb3-456e-a55d-a76067f9fdcd",
   "metadata": {},
   "source": [
    "Separate bright stars:"
   ]
  },
  {
   "cell_type": "code",
   "execution_count": 56,
   "id": "8e62b2bf-638c-440f-8605-c7e83b300fd9",
   "metadata": {},
   "outputs": [
    {
     "name": "stdout",
     "output_type": "stream",
     "text": [
      "4147 bright stars separated.\n"
     ]
    }
   ],
   "source": [
    "gaia_mag_limit = 7\n",
    "sel = gaia_mag < gaia_mag_limit\n",
    "gaia_bright_ra = gaia_ra[sel]\n",
    "gaia_bright_dec = gaia_dec[sel]\n",
    "gaia_ra = gaia_ra[~sel]\n",
    "gaia_dec = gaia_dec[~sel]\n",
    "gaia_mag = gaia_mag[~sel]\n",
    "print(f'{np.sum(sel)} bright stars separated.')"
   ]
  },
  {
   "cell_type": "markdown",
   "id": "465a5627-e14e-48ac-a5d0-a0c55c69cc28",
   "metadata": {},
   "source": [
    "Add bright stars that should be avoided:"
   ]
  },
  {
   "cell_type": "code",
   "execution_count": 57,
   "id": "12df340c-7c1a-4f85-8fab-0c5f1172ed20",
   "metadata": {},
   "outputs": [
    {
     "name": "stdout",
     "output_type": "stream",
     "text": [
      "4147 coordinates of bright stars set that will be avoided in the guide camera.\n"
     ]
    }
   ],
   "source": [
    "selector.set_stars_to_avoid(np.radians(gaia_bright_ra), np.radians(gaia_bright_dec))"
   ]
  },
  {
   "cell_type": "markdown",
   "id": "668c340f-f11f-46bd-a0ba-b1c138e8967a",
   "metadata": {},
   "source": [
    "Add stars:"
   ]
  },
  {
   "cell_type": "code",
   "execution_count": 58,
   "id": "0a2c7517-e7a1-4ee8-96b2-244ea4b55096",
   "metadata": {},
   "outputs": [
    {
     "name": "stdout",
     "output_type": "stream",
     "text": [
      "3786447 candidate stars added.\n",
      "Magnitude range: 7.0 - 15.4\n"
     ]
    }
   ],
   "source": [
    "selector.set_stars(np.radians(gaia_ra), np.radians(gaia_dec), gaia_mag)"
   ]
  },
  {
   "cell_type": "markdown",
   "id": "c1e13d06-6332-4183-94ba-3771d38c061b",
   "metadata": {},
   "source": [
    "How much memory do the stars' coordinates and matnitudes require?"
   ]
  },
  {
   "cell_type": "code",
   "execution_count": 59,
   "id": "090f979a-87d7-4c15-8c91-78c8571e06d7",
   "metadata": {},
   "outputs": [],
   "source": [
    "memory_byte = sys.getsizeof(gaia_ra) + sys.getsizeof(gaia_dec) + sys.getsizeof(gaia_mag) \\\n",
    "        + sys.getsizeof(gaia_bright_ra) + sys.getsizeof(gaia_bright_dec)"
   ]
  },
  {
   "cell_type": "code",
   "execution_count": 60,
   "id": "7138dee2-a2ae-4c7f-9082-2b326fdced16",
   "metadata": {},
   "outputs": [
    {
     "name": "stdout",
     "output_type": "stream",
     "text": [
      "MB: 75.8\n"
     ]
    }
   ],
   "source": [
    "print(f'MB: {memory_byte/1000000:.1f}') "
   ]
  },
  {
   "cell_type": "code",
   "execution_count": 61,
   "id": "2b80dbe9-1e18-4a7e-8aa5-842a8b888416",
   "metadata": {},
   "outputs": [],
   "source": [
    "del gaia_ra, gaia_dec, gaia_mag, gaia_bright_ra, gaia_bright_dec"
   ]
  },
  {
   "cell_type": "markdown",
   "id": "3860148d-1b14-4932-9610-fea1790790dc",
   "metadata": {},
   "source": [
    "Magnitude to exposure time conversion function:"
   ]
  },
  {
   "cell_type": "code",
   "execution_count": 62,
   "id": "f2822d0a-2c2e-43d1-adcb-6ddd10f7864b",
   "metadata": {},
   "outputs": [],
   "source": [
    "mag_ref = 16\n",
    "exp_ref = 5 # sec\n",
    "exp_min = 1 # sec\n",
    "mag_to_exp = lambda mag: np.maximum(exp_ref * 10**((mag - mag_ref) / 2.5), exp_min)"
   ]
  },
  {
   "cell_type": "markdown",
   "id": "f1cda8ef-5b11-4b83-bd59-d857578e40d6",
   "metadata": {},
   "source": [
    "### Test"
   ]
  },
  {
   "cell_type": "markdown",
   "id": "828dbd86-f15a-4b03-876b-b150db36052e",
   "metadata": {},
   "source": [
    "Sample test points:"
   ]
  },
  {
   "cell_type": "code",
   "execution_count": 63,
   "id": "b952d288-4a66-4175-a7f7-1a554c0f198f",
   "metadata": {},
   "outputs": [],
   "source": [
    "n_points = 100\n",
    "test_ra, test_dec = sample_spherical(n_points, dec_lim_south=0, gal_lat_lim=np.radians(30))"
   ]
  },
  {
   "cell_type": "markdown",
   "id": "8c281a9f-0068-437a-bee6-1d0cc5447787",
   "metadata": {},
   "source": [
    "Run test:"
   ]
  },
  {
   "cell_type": "code",
   "execution_count": 64,
   "id": "8009801a-0c6f-41f6-bfce-6f6e84e27b1e",
   "metadata": {},
   "outputs": [
    {
     "name": "stdout",
     "output_type": "stream",
     "text": [
      "Progress: done.     \n"
     ]
    }
   ],
   "source": [
    "runtime = []\n",
    "n_guidestars = []\n",
    "\n",
    "for i, (ra, dec) in enumerate(zip(test_ra, test_dec)):\n",
    "    print(f'\\rProgress: {i*100/n_points:.1f}%', end='')\n",
    "    runtime_start = datetime.now()\n",
    "    guidestars = selector.select(field_ra=ra, field_dec=dec, mag_to_exp=mag_to_exp, return_coord=False)\n",
    "    runtime.append((datetime.now() - runtime_start).total_seconds())\n",
    "    n_guidestars.append(len(guidestars))\n",
    "    \n",
    "results = DataFrame({'runtime (s)': runtime, 'n_guidestars': n_guidestars})\n",
    "del runtime, n_guidestars\n",
    "print('\\rProgress: done.     ')"
   ]
  },
  {
   "cell_type": "markdown",
   "id": "d99662c4-acdf-4993-9989-b306542012ba",
   "metadata": {},
   "source": [
    "### Results"
   ]
  },
  {
   "cell_type": "code",
   "execution_count": 65,
   "id": "f99e29c6-988e-4509-bf2d-5a2fe275c63b",
   "metadata": {},
   "outputs": [
    {
     "data": {
      "image/png": "[encoded data removed]",
      "text/plain": [
       "<Figure size 640x480 with 1 Axes>"
      ]
     },
     "metadata": {},
     "output_type": "display_data"
    }
   ],
   "source": [
    "sns.histplot(data=results, x='runtime (s)');"
   ]
  },
  {
   "cell_type": "code",
   "execution_count": 66,
   "id": "328af32d-10f5-47ad-9535-67e0953d7955",
   "metadata": {},
   "outputs": [
    {
     "data": {
      "text/html": [
       "<div>\n",
       "<style scoped>\n",
       "    .dataframe tbody tr th:only-of-type {\n",
       "        vertical-align: middle;\n",
       "    }\n",
       "\n",
       "    .dataframe tbody tr th {\n",
       "        vertical-align: top;\n",
       "    }\n",
       "\n",
       "    .dataframe thead th {\n",
       "        text-align: right;\n",
       "    }\n",
       "</style>\n",
       "<table border=\"1\" class=\"dataframe\">\n",
       "  <thead>\n",
       "    <tr style=\"text-align: right;\">\n",
       "      <th></th>\n",
       "      <th>runtime (s)</th>\n",
       "      <th>n_guidestars</th>\n",
       "    </tr>\n",
       "  </thead>\n",
       "  <tbody>\n",
       "    <tr>\n",
       "      <th>count</th>\n",
       "      <td>100.000000</td>\n",
       "      <td>100.0</td>\n",
       "    </tr>\n",
       "    <tr>\n",
       "      <th>mean</th>\n",
       "      <td>0.735393</td>\n",
       "      <td>3.0</td>\n",
       "    </tr>\n",
       "    <tr>\n",
       "      <th>std</th>\n",
       "      <td>0.198460</td>\n",
       "      <td>0.0</td>\n",
       "    </tr>\n",
       "    <tr>\n",
       "      <th>min</th>\n",
       "      <td>0.525772</td>\n",
       "      <td>3.0</td>\n",
       "    </tr>\n",
       "    <tr>\n",
       "      <th>25%</th>\n",
       "      <td>0.583148</td>\n",
       "      <td>3.0</td>\n",
       "    </tr>\n",
       "    <tr>\n",
       "      <th>50%</th>\n",
       "      <td>0.688372</td>\n",
       "      <td>3.0</td>\n",
       "    </tr>\n",
       "    <tr>\n",
       "      <th>75%</th>\n",
       "      <td>0.831781</td>\n",
       "      <td>3.0</td>\n",
       "    </tr>\n",
       "    <tr>\n",
       "      <th>max</th>\n",
       "      <td>1.557090</td>\n",
       "      <td>3.0</td>\n",
       "    </tr>\n",
       "  </tbody>\n",
       "</table>\n",
       "</div>"
      ],
      "text/plain": [
       "       runtime (s)  n_guidestars\n",
       "count   100.000000         100.0\n",
       "mean      0.735393           3.0\n",
       "std       0.198460           0.0\n",
       "min       0.525772           3.0\n",
       "25%       0.583148           3.0\n",
       "50%       0.688372           3.0\n",
       "75%       0.831781           3.0\n",
       "max       1.557090           3.0"
      ]
     },
     "execution_count": 66,
     "metadata": {},
     "output_type": "execute_result"
    }
   ],
   "source": [
    "results.describe()"
   ]
  },
  {
   "cell_type": "code",
   "execution_count": null,
   "id": "a65d1259-4084-498c-a42d-8192b1b76fdd",
   "metadata": {},
   "outputs": [],
   "source": []
  }
 ],
 "metadata": {
  "kernelspec": {
   "display_name": "Python 3 (ipykernel)",
   "language": "python",
   "name": "python3"
  },
  "language_info": {
   "codemirror_mode": {
    "name": "ipython",
    "version": 3
   },
   "file_extension": ".py",
   "mimetype": "text/x-python",
   "name": "python",
   "nbconvert_exporter": "python",
   "pygments_lexer": "ipython3",
   "version": "3.9.18"
  }
 },
 "nbformat": 4,
 "nbformat_minor": 5
}
