{
 "cells": [
  {
   "cell_type": "markdown",
   "id": "b4fa582a-d5bd-4e76-b6f8-6d99ab027274",
   "metadata": {},
   "source": [
    "# Develop: Guidestar selection WALOP-S"
   ]
  },
  {
   "cell_type": "code",
   "execution_count": 1,
   "id": "7238840a-8341-4bcf-9fdd-4cebeedad194",
   "metadata": {},
   "outputs": [],
   "source": [
    "%load_ext autoreload\n",
    "%autoreload 2"
   ]
  },
  {
   "cell_type": "code",
   "execution_count": 2,
   "id": "2e5e10d6-91b3-4b5e-95e7-91e62f06265e",
   "metadata": {},
   "outputs": [],
   "source": [
    "from astropy.coordinates import Angle, SkyCoord\n",
    "import astropy.units as u\n",
    "from astropy.io.votable import parse\n",
    "import matplotlib.pyplot as plt\n",
    "import numpy as np\n",
    "import os\n",
    "from pandas import DataFrame\n",
    "import seaborn as sns\n",
    "\n",
    "from fieldgrid import FieldGridIsoLat\n",
    "from utilities import cart_to_sphere, sphere_to_cart, rot_dec, rot_ra, rot_tilt, inside_polygon, close_to_edge"
   ]
  },
  {
   "cell_type": "markdown",
   "id": "38023ac1-0c29-4d30-b895-2400d2fb0567",
   "metadata": {},
   "source": [
    "Helper functions:"
   ]
  },
  {
   "cell_type": "code",
   "execution_count": 3,
   "id": "7a519338-9aad-4680-87be-383691abc422",
   "metadata": {},
   "outputs": [],
   "source": [
    "def load_gaia(votable_files, dir_in):\n",
    "    \n",
    "    if isinstance(votable_files, str):\n",
    "        votable_files = [votable_files]\n",
    "        \n",
    "    gaia_ra = []\n",
    "    gaia_dec = []\n",
    "    gaia_mag = []\n",
    "\n",
    "    for i, filename in enumerate(votable_files, start=1):\n",
    "        print(f'Read VOTable {i}/{len(votable_files)}..')\n",
    "        votable = parse(os.path.join(dir_in, filename))\n",
    "        table = votable.get_first_table()\n",
    "        sel = table.array['dec'] < 1\n",
    "        gaia_ra.append(table.array['ra'].data[sel])\n",
    "        gaia_dec.append(table.array['dec'].data[sel])\n",
    "        gaia_mag.append(table.array['phot_g_mean_mag'].data[sel])\n",
    "\n",
    "    gaia_ra = np.concatenate(gaia_ra)\n",
    "    gaia_dec = np.concatenate(gaia_dec)\n",
    "    gaia_mag = np.concatenate(gaia_mag)\n",
    "    \n",
    "    return gaia_ra, gaia_dec, gaia_mag"
   ]
  },
  {
   "cell_type": "code",
   "execution_count": 4,
   "id": "120909c1-135c-4257-9bba-fa25c4660390",
   "metadata": {},
   "outputs": [],
   "source": [
    "def plot_circle(circle_center, radius, **kwargs):\n",
    "    \"\"\"Plot a circle.\"\"\"\n",
    "    circle = plt.Circle(circle_center, radius, fill=False, **kwargs)\n",
    "    plt.gca().add_artist(circle)\n",
    "    plt.gca().set_aspect(1)\n",
    "    plt.xlim(circle_center[0]-radius*1.1, circle_center[0]+radius*1.1)\n",
    "    plt.ylim(circle_center[1]-radius*1.1, circle_center[1]+radius*1.1)"
   ]
  },
  {
   "cell_type": "code",
   "execution_count": 5,
   "id": "8950e168-d910-442f-8668-9375de7e6f47",
   "metadata": {},
   "outputs": [],
   "source": [
    "def plot_instrumentfield(circle_center, radius):\n",
    "    \"\"\"Plot the instrument field.\"\"\"\n",
    "    plot_circle(circle_center, radius, edgecolor='k')\n",
    "    plt.plot(circle_center[0], circle_center[1], marker='+', ms=10, color='k')"
   ]
  },
  {
   "cell_type": "code",
   "execution_count": 6,
   "id": "4c6cfdd9-59df-462b-9ecb-69e89902083f",
   "metadata": {},
   "outputs": [],
   "source": [
    "def plot_rectangle(rectangle_center, size, **kwargs):\n",
    "    \"\"\"Plot a rectangle.\"\"\"\n",
    "    rectangle = plt.Rectangle((rectangle_center[0]-size/2, rectangle_center[1]-size/2), size, size, fill=False, **kwargs)\n",
    "    plt.gca().add_artist(rectangle)"
   ]
  },
  {
   "cell_type": "code",
   "execution_count": 7,
   "id": "1ed8e45d-5bac-4f31-9275-8f463a8c6e84",
   "metadata": {},
   "outputs": [],
   "source": [
    "def plot_sciencefield(field_center, size):\n",
    "    \"\"\"Plot the science field.\"\"\"\n",
    "    plot_rectangle(field_center, size, color='0.5')\n",
    "    plt.plot(field_center[0], field_center[1], color='0.5', marker='+', ms=10)"
   ]
  },
  {
   "cell_type": "code",
   "execution_count": 8,
   "id": "048b9351-72e0-48ae-a1e1-f78b7a66b50c",
   "metadata": {},
   "outputs": [],
   "source": [
    "def plot_polygon(polygon, **kwargs):\n",
    "    \"\"\"Plot a polygon.\"\"\"\n",
    "    for ((x0, y0), (x1, y1)) in zip(polygon, np.r_[polygon[1:], [polygon[0]]]):\n",
    "        plt.plot([x0, x1], [y0, y1], **kwargs)"
   ]
  },
  {
   "cell_type": "code",
   "execution_count": 9,
   "id": "347bb5f4-f496-49b4-85ec-a9b58851efd3",
   "metadata": {},
   "outputs": [],
   "source": [
    "def plot_patrollingfield(polygon):\n",
    "    \"\"\"Plot the guider patrolling field.\"\"\"\n",
    "    plot_polygon(polygon, linestyle='-', color='orange')"
   ]
  },
  {
   "cell_type": "markdown",
   "id": "2e186e66-5ac6-4da5-b0f3-eb228e990c17",
   "metadata": {},
   "source": [
    "## Read in Gaia stars"
   ]
  },
  {
   "cell_type": "code",
   "execution_count": 10,
   "id": "2d0503d3-4caf-492a-99ce-47a9dcf962e3",
   "metadata": {},
   "outputs": [
    {
     "name": "stdout",
     "output_type": "stream",
     "text": [
      "Read VOTable 1/1..\n",
      "# stars: 419381\n"
     ]
    }
   ],
   "source": [
    "dir_in = 'gaia/'\n",
    "votable_files = 'gaia_g_mag12_b28.vot'\n",
    "\n",
    "gaia_ra, gaia_dec, gaia_mag = load_gaia(votable_files, dir_in)\n",
    "gaia_coord = SkyCoord(gaia_ra, gaia_dec, unit='deg')\n",
    "\n",
    "print('# stars:', gaia_mag.shape[0])"
   ]
  },
  {
   "cell_type": "code",
   "execution_count": 11,
   "id": "87831dab-ed2e-45f7-964b-c5098829393b",
   "metadata": {},
   "outputs": [
    {
     "data": {
      "text/html": [
       "<div>\n",
       "<style scoped>\n",
       "    .dataframe tbody tr th:only-of-type {\n",
       "        vertical-align: middle;\n",
       "    }\n",
       "\n",
       "    .dataframe tbody tr th {\n",
       "        vertical-align: top;\n",
       "    }\n",
       "\n",
       "    .dataframe thead th {\n",
       "        text-align: right;\n",
       "    }\n",
       "</style>\n",
       "<table border=\"1\" class=\"dataframe\">\n",
       "  <thead>\n",
       "    <tr style=\"text-align: right;\">\n",
       "      <th></th>\n",
       "      <th>mag</th>\n",
       "    </tr>\n",
       "  </thead>\n",
       "  <tbody>\n",
       "    <tr>\n",
       "      <th>count</th>\n",
       "      <td>419381.000000</td>\n",
       "    </tr>\n",
       "    <tr>\n",
       "      <th>mean</th>\n",
       "      <td>10.806376</td>\n",
       "    </tr>\n",
       "    <tr>\n",
       "      <th>std</th>\n",
       "      <td>1.121649</td>\n",
       "    </tr>\n",
       "    <tr>\n",
       "      <th>min</th>\n",
       "      <td>1.773280</td>\n",
       "    </tr>\n",
       "    <tr>\n",
       "      <th>25%</th>\n",
       "      <td>10.309081</td>\n",
       "    </tr>\n",
       "    <tr>\n",
       "      <th>50%</th>\n",
       "      <td>11.137020</td>\n",
       "    </tr>\n",
       "    <tr>\n",
       "      <th>75%</th>\n",
       "      <td>11.636544</td>\n",
       "    </tr>\n",
       "    <tr>\n",
       "      <th>max</th>\n",
       "      <td>12.000000</td>\n",
       "    </tr>\n",
       "  </tbody>\n",
       "</table>\n",
       "</div>"
      ],
      "text/plain": [
       "                 mag\n",
       "count  419381.000000\n",
       "mean       10.806376\n",
       "std         1.121649\n",
       "min         1.773280\n",
       "25%        10.309081\n",
       "50%        11.137020\n",
       "75%        11.636544\n",
       "max        12.000000"
      ]
     },
     "execution_count": 11,
     "metadata": {},
     "output_type": "execute_result"
    }
   ],
   "source": [
    "DataFrame({'mag': gaia_mag}).describe()"
   ]
  },
  {
   "cell_type": "markdown",
   "id": "14550425-99c7-49d9-9374-7a3ee686947e",
   "metadata": {},
   "source": [
    "## Geometry"
   ]
  },
  {
   "cell_type": "markdown",
   "id": "bb0ff53f-404d-46a9-b988-37aa3c28e01b",
   "metadata": {},
   "source": [
    "![Test](info/Guider_S_region.png)"
   ]
  },
  {
   "cell_type": "markdown",
   "id": "80217110-4bdc-46ca-ad82-66a97285a738",
   "metadata": {},
   "source": [
    "**Questions:**\n",
    "1. All values in the plot are in mm?\n",
    "2. How do I convert mm into arcmin? The document under Q3 gives scaling factor 0.23 arcmin/mm. However, at the top the scaling 0.051 arcsec/um is given, which equates to 0.85 arcmin/mm.\n",
    "3. Which part of the sky can the guide camera see?\n",
    "    1. The area marked with diagonal solid lines is the area where the guide camera can move. That means the CCD center can be placed anywhere in this region?\n",
    "    2. The CCD image has a size of 6.4 mm horizontally and 4.75 vertially. This means, if we place the camera center at the right edge of the allowed region of motion, the image will extend 3.2 mm beyond the marked region towards the right.\n",
    "    3. Similarly, if we place the camera center at the top edge of the allowed region of motion, the image will extend 2.37 mm beyond the marked region towards the top.\n",
    "    4. However, the region accessible to the guide camera does not extend into the science field, because the science field is blocking that light.\n",
    "    5. The drawn circle is an absolute limit. Any star further away than 150 mm from the circle center will not be visible.\n",
    "4. How will this be oriented on the sky? When the instrument is mounted is the guide camera area located North and East of the science field or South and West\n",
    "5. In the document, Q3 states the patroling area is 2*145*35. This is not correct. It should be 180*35+(180-35)*35."
   ]
  },
  {
   "cell_type": "markdown",
   "id": "05269209-5a8b-49e7-8b1d-2ece05070fe3",
   "metadata": {},
   "source": [
    "All values in the plot are given in mm. The conversion factors to get to arcmin or rad are:"
   ]
  },
  {
   "cell_type": "code",
   "execution_count": 12,
   "id": "e33b2ee5-d5d2-4a5c-8ae0-bcf38ac0c84b",
   "metadata": {},
   "outputs": [],
   "source": [
    "scale_arcmin = 0.23 # arcmin / mm\n",
    "scale_rad = np.radians(scale_arcmin / 60) # rad / mm"
   ]
  },
  {
   "cell_type": "markdown",
   "id": "4582c185-76cf-4b66-af7a-98ed67cb6313",
   "metadata": {},
   "source": [
    "The science field is 180 mm x 180 mm (41' x 41'):"
   ]
  },
  {
   "cell_type": "code",
   "execution_count": 13,
   "id": "afc60dc2-bdf5-4d0b-968b-0aa97d67dce7",
   "metadata": {},
   "outputs": [
    {
     "data": {
      "text/plain": [
       "41.40000000000001"
      ]
     },
     "execution_count": 13,
     "metadata": {},
     "output_type": "execute_result"
    }
   ],
   "source": [
    "field_size = 180 # mm\n",
    "field_size = Angle(field_size * scale_rad, unit='rad')\n",
    "field_size.arcmin"
   ]
  },
  {
   "cell_type": "markdown",
   "id": "efc7e4eb-b9dd-485e-90cd-b528c1451892",
   "metadata": {},
   "source": [
    "The circle center is set off by +15 mm in x and y:"
   ]
  },
  {
   "cell_type": "code",
   "execution_count": 14,
   "id": "2e22630e-700c-4250-8d54-84da8fdec4ac",
   "metadata": {},
   "outputs": [
    {
     "name": "stdout",
     "output_type": "stream",
     "text": [
      "34.2 arcmin\n"
     ]
    }
   ],
   "source": [
    "offset_mm = 15 # mm\n",
    "offset = Angle(offset_mm * scale_arcmin, unit='arcmin')\n",
    "radius = Angle(np.sqrt((180/2+offset_mm)**2*2)*scale_rad, unit='rad')\n",
    "print(f'{radius.arcmin:.1f} arcmin')"
   ]
  },
  {
   "cell_type": "markdown",
   "id": "f342538a-5c34-4e22-8b89-759dec113e79",
   "metadata": {},
   "source": [
    "Define polygon that traces the outlines of the guider patrolling field. Note, I tracing the exact outline, but I am cutting off a large part of the top right corner, where the throughput is close to zero. This is why I use two points `(125, 60), (60, 125)` instead of the top right corner point `(125, 125)`:"
   ]
  },
  {
   "cell_type": "code",
   "execution_count": 15,
   "id": "45985d98-35f2-4d64-8890-0402cbeeab4f",
   "metadata": {},
   "outputs": [
    {
     "data": {
      "text/plain": [
       "array([[ 17.25, -16.1 ],\n",
       "       [ 25.3 , -16.1 ],\n",
       "       [ 25.3 ,  10.35],\n",
       "       [ 10.35,  25.3 ],\n",
       "       [-16.1 ,  25.3 ],\n",
       "       [-16.1 ,  17.25],\n",
       "       [ 17.25,  17.25]])"
      ]
     },
     "execution_count": 15,
     "metadata": {},
     "output_type": "execute_result"
    }
   ],
   "source": [
    "polygon = [(90, -55), (125, -55), (125, 60), (60, 125), (-55, 125), (-55, 90), (90, 90)] ## mm\n",
    "polygon_arcmin = np.array(polygon) * scale_arcmin - offset.arcmin\n",
    "polygon_rad = np.array(polygon) * scale_rad - offset.rad\n",
    "polygon_arcmin"
   ]
  },
  {
   "cell_type": "markdown",
   "id": "ce5b9069-9175-453f-8b62-e6a4b0ac540d",
   "metadata": {},
   "source": [
    "## Demonstration"
   ]
  },
  {
   "cell_type": "markdown",
   "id": "ab05a4a9-0056-4d24-a06b-7a2763670109",
   "metadata": {},
   "source": [
    "### Selection of guidestars"
   ]
  },
  {
   "cell_type": "markdown",
   "id": "c8b55f43-e335-46cc-be59-e4bd26f7c151",
   "metadata": {},
   "source": [
    "Define an arbitrary field center anywhere on the Southern hemisphere:"
   ]
  },
  {
   "cell_type": "code",
   "execution_count": 16,
   "id": "e3a90820-00d2-4dcf-928b-af2f035d1d17",
   "metadata": {},
   "outputs": [],
   "source": [
    "field_center = SkyCoord(90, -60, unit='deg')\n",
    "#field_center = SkyCoord(-30, -40, unit='deg')\n",
    "offset = Angle(15 * scale_rad, unit='rad')\n",
    "circle_center = SkyCoord(field_center.ra + offset, field_center.dec + offset)"
   ]
  },
  {
   "cell_type": "code",
   "execution_count": 17,
   "id": "fa22ddfb-cef1-41f9-8257-b96dbbfd7aff",
   "metadata": {},
   "outputs": [
    {
     "data": {
      "text/plain": [
       "<SkyCoord (ICRS): (ra, dec) in deg\n",
       "    (90., -60.)>"
      ]
     },
     "execution_count": 17,
     "metadata": {},
     "output_type": "execute_result"
    }
   ],
   "source": [
    "field_center"
   ]
  },
  {
   "cell_type": "code",
   "execution_count": 18,
   "id": "d92e13fe-1e2d-4f60-8127-4a36b63dc96f",
   "metadata": {},
   "outputs": [
    {
     "data": {
      "text/plain": [
       "<SkyCoord (ICRS): (ra, dec) in deg\n",
       "    (90.0575, -59.9425)>"
      ]
     },
     "execution_count": 18,
     "metadata": {},
     "output_type": "execute_result"
    }
   ],
   "source": [
    "circle_center"
   ]
  },
  {
   "cell_type": "markdown",
   "id": "43cf4428-fdcf-4c36-8740-6e416fd2bfb8",
   "metadata": {},
   "source": [
    "Select all stars in the circle:"
   ]
  },
  {
   "cell_type": "code",
   "execution_count": 19,
   "id": "4067bf33-1636-4c6f-923f-2e46b5b13ab3",
   "metadata": {},
   "outputs": [
    {
     "name": "stdout",
     "output_type": "stream",
     "text": [
      "Stars in circle region: 67\n"
     ]
    },
    {
     "data": {
      "text/plain": [
       "<SkyCoord (ICRS): (ra, dec) in deg\n",
       "    [(89.45532853, -60.23317959), (89.87124229, -60.04797051),\n",
       "     (89.87082488, -60.04764939), (89.74577822, -60.04642682),\n",
       "     (89.19653326, -60.1253444 ), (89.14683893, -60.13976092),\n",
       "     (89.1417633 , -60.03599715), (89.11402418, -59.96129667),\n",
       "     (88.98441354, -59.94348483), (88.9889753 , -59.91109706),\n",
       "     (89.22400772, -59.95226795), (89.33104422, -59.89827838),\n",
       "     (89.07571986, -59.90962673), (89.09422087, -59.85011641),\n",
       "     (89.79573836, -59.89197865), (89.50836943, -59.85565086),\n",
       "     (89.91296526, -59.82652152), (89.64013039, -59.6678236 ),\n",
       "     (89.51475875, -59.58171686), (89.09998109, -59.65785016),\n",
       "     (89.33474735, -59.63202236), (89.92569596, -59.64760482),\n",
       "     (89.91743865, -60.48154627), (89.39803994, -60.28555645),\n",
       "     (89.26272918, -60.23907156), (89.06203354, -60.20557026),\n",
       "     (90.77291171, -60.37908007), (90.11325705, -60.4946764 ),\n",
       "     (90.31128691, -60.48558554), (90.44572303, -60.32855873),\n",
       "     (90.62811439, -60.36540283), (90.82167744, -60.28246033),\n",
       "     (90.84807296, -60.23840641), (91.08855016, -60.09336151),\n",
       "     (91.11485314, -60.14984481), (90.45449123, -59.42688342),\n",
       "     (90.27098837, -59.47036041), (90.0680156 , -60.36271319),\n",
       "     (90.13358191, -60.33638473), (90.46727365, -60.22647466),\n",
       "     (90.53904322, -60.09679332), (90.8444815 , -60.12061633),\n",
       "     (91.04155505, -60.05441415), (90.21312519, -60.13915777),\n",
       "     (90.35180701, -60.07444767), (90.10106551, -60.11471133),\n",
       "     (90.32182828, -60.03103821), (91.06972588, -59.82224802),\n",
       "     (90.89858011, -59.775509  ), (90.15556905, -59.99735817),\n",
       "     (90.44852124, -59.86426739), (90.46413533, -59.82647775),\n",
       "     (90.44959379, -59.82239738), (90.52922064, -59.78723204),\n",
       "     (90.66723195, -59.76943581), (90.78935405, -59.60695755),\n",
       "     (90.20557305, -59.71212469), (90.30069241, -59.72500623),\n",
       "     (90.34097061, -59.71373906), (90.33131944, -59.69491387),\n",
       "     (90.34318291, -59.63089634), (90.33985964, -59.62333683),\n",
       "     (90.83183381, -59.5410171 ), (90.65406081, -59.50976963),\n",
       "     (90.10985019, -59.55953292), (90.49148031, -59.48960092),\n",
       "     (90.42265025, -59.4729229 )]>"
      ]
     },
     "execution_count": 19,
     "metadata": {},
     "output_type": "execute_result"
    }
   ],
   "source": [
    "sel = gaia_coord.separation(circle_center) < radius\n",
    "print('Stars in circle region:', np.sum(sel))\n",
    "gaia_coord[sel]"
   ]
  },
  {
   "cell_type": "markdown",
   "id": "2d5b7575-f8b7-44ec-8de1-1587a54e0502",
   "metadata": {},
   "source": [
    "Rotate coordinate frame for selected stars such that the instrument center becomes (0, 0):"
   ]
  },
  {
   "cell_type": "code",
   "execution_count": 20,
   "id": "546d470b-a5e6-4101-a114-a71e214d7600",
   "metadata": {},
   "outputs": [],
   "source": [
    "    def rotate_frame(ra, dec, circle_center, tilt=0):\n",
    "        \"\"\"Rotate coordinate frame such that circle center becomes (0, 0).\"\"\"\n",
    "        x, y, z = sphere_to_cart(ra, dec)\n",
    "        x, y, z = rot_ra(x, y, z, -circle_center.ra.rad)\n",
    "        x, y, z = rot_dec(x, y, z, -circle_center.dec.rad)\n",
    "        \n",
    "        if tilt:\n",
    "            x, y, z = rot_tilt(x, y, z, tilt)\n",
    "        \n",
    "        ra_rot, dec_rot = cart_to_sphere(x, y, z)\n",
    "        ra_rot = np.where(ra_rot > np.pi, ra_rot-2*np.pi, ra_rot)\n",
    "\n",
    "        return ra_rot, dec_rot"
   ]
  },
  {
   "cell_type": "code",
   "execution_count": 21,
   "id": "ab669acc-00ba-40f3-9b72-bae7c43a31bb",
   "metadata": {},
   "outputs": [],
   "source": [
    "ra_rot, dec_rot = rotate_frame(gaia_coord[sel].ra.rad, gaia_coord[sel].dec.rad, circle_center)\n",
    "ra_rot_arcmin = np.degrees(ra_rot) * 60\n",
    "dec_rot_arcmin = np.degrees(dec_rot) * 60"
   ]
  },
  {
   "cell_type": "code",
   "execution_count": 22,
   "id": "eeb4fc7e-15e6-4b90-b799-e0222903f5ef",
   "metadata": {},
   "outputs": [
    {
     "data": {
      "image/png": "[encoded data removed]",
      "text/plain": [
       "<Figure size 640x480 with 1 Axes>"
      ]
     },
     "metadata": {},
     "output_type": "display_data"
    }
   ],
   "source": [
    "sns.scatterplot(x=gaia_coord[sel].ra.deg, y=gaia_coord[sel].dec.deg)\n",
    "plt.gca().set_aspect(1)\n",
    "plt.title('Selected stars in original coordinate frame')\n",
    "plt.ylabel('Dec (deg)')\n",
    "plt.xlabel('RA (deg)');"
   ]
  },
  {
   "cell_type": "code",
   "execution_count": 23,
   "id": "0d8609c1-9c0a-4ff6-8d9a-fa5adb4b9b2b",
   "metadata": {},
   "outputs": [
    {
     "data": {
      "image/png": "[encoded data removed]",
      "text/plain": [
       "<Figure size 640x480 with 1 Axes>"
      ]
     },
     "metadata": {},
     "output_type": "display_data"
    }
   ],
   "source": [
    "sns.scatterplot(x=np.degrees(ra_rot), y=np.degrees(dec_rot))\n",
    "plt.plot(0, 0, marker='+', color='orange', ms=10)\n",
    "plot_sciencefield((-offset.deg, -offset.deg), field_size.deg)\n",
    "plot_instrumentfield((0, 0), radius.deg)\n",
    "plt.title('Selected stars in rotated coordinate frame')\n",
    "plt.ylabel('Dec (deg)')\n",
    "plt.xlabel('RA (deg)');"
   ]
  },
  {
   "cell_type": "markdown",
   "id": "b3176418-0646-4479-98cb-d1c22278471e",
   "metadata": {},
   "source": [
    "Determine which stars are inside the guider patrolling area:"
   ]
  },
  {
   "cell_type": "code",
   "execution_count": 24,
   "id": "4ce9f8bc-a254-466d-a54e-fef698603ece",
   "metadata": {},
   "outputs": [],
   "source": [
    "inside = []\n",
    "\n",
    "for point in zip(ra_rot_arcmin, dec_rot_arcmin):\n",
    "    inside.append(inside_polygon(point, polygon_arcmin))"
   ]
  },
  {
   "cell_type": "markdown",
   "id": "c100fcb8-c0ce-4583-8b50-5ec6fc7f5d31",
   "metadata": {},
   "source": [
    "Determine if any stars inside the patrolling window are too close to the edge:"
   ]
  },
  {
   "cell_type": "code",
   "execution_count": 25,
   "id": "8519cad3-3bb1-4fd1-8c31-295161cdde88",
   "metadata": {},
   "outputs": [],
   "source": [
    "limit_arcmin = 1 # arcmin\n",
    "too_close = []\n",
    "\n",
    "for point in zip(ra_rot_arcmin[inside], dec_rot_arcmin[inside]):\n",
    "    too_close.append(close_to_edge(point, polygon_arcmin, limit_arcmin))"
   ]
  },
  {
   "cell_type": "code",
   "execution_count": 26,
   "id": "eaecbc66-d8e1-44c2-a06a-240758668542",
   "metadata": {},
   "outputs": [],
   "source": [
    "labels = np.where(inside, 'in', 'out').astype('U4')\n",
    "labels[inside] = np.where(too_close, 'edge', labels[inside])"
   ]
  },
  {
   "cell_type": "markdown",
   "id": "9eb8dd8c-b8a2-4bb1-bbb0-7be5229e778c",
   "metadata": {},
   "source": [
    "Show result:"
   ]
  },
  {
   "cell_type": "code",
   "execution_count": 27,
   "id": "33e9ef6d-3318-4353-b339-7467dc27b928",
   "metadata": {},
   "outputs": [
    {
     "data": {
      "image/png": "[encoded data removed]",
      "text/plain": [
       "<Figure size 640x480 with 1 Axes>"
      ]
     },
     "metadata": {},
     "output_type": "display_data"
    }
   ],
   "source": [
    "sns.scatterplot(x=ra_rot_arcmin, y=dec_rot_arcmin, hue=labels, hue_order=['in', 'edge', 'out'], palette=['tab:orange', 'tab:brown', 'tab:blue'])\n",
    "plt.plot(0, 0, marker='+', color='orange', ms=10)\n",
    "plot_sciencefield((-offset.arcmin, -offset.arcmin), field_size.arcmin)\n",
    "plot_instrumentfield((0, 0), radius.arcmin)\n",
    "plot_patrollingfield(polygon_arcmin)\n",
    "plt.title('Selected stars in rotated coordinate frame')\n",
    "plt.ylabel('Dec (arcmin)')\n",
    "plt.xlabel('RA (arcmin)');"
   ]
  },
  {
   "cell_type": "markdown",
   "id": "013cac0d-054f-4480-9745-c625be0b45c0",
   "metadata": {},
   "source": [
    "**Important note:** When the above is implemented, the close-to-edge limit must also be subtracted from the radius. This was not done in this demonstration."
   ]
  },
  {
   "cell_type": "markdown",
   "id": "4284610f-0e0f-4d85-9385-431644fe6039",
   "metadata": {},
   "source": [
    "### Convert magnitudes to exposure time"
   ]
  },
  {
   "cell_type": "markdown",
   "id": "01da31bc-c8f2-44b7-856f-537fc38fce8c",
   "metadata": {},
   "source": [
    "According to Sid's information we should be able to accuratly guide on a 16 mag star with 5 seconds exposures. The exposure time should then be scaled inversely with flux, which goes as $F \\sim 10^{-m/2.5}$, where $m$ is the magnitude. Though, the exposure time should not become arbitrarily short. The minimum should e.g. be 1 second. We use a relation of the following form:"
   ]
  },
  {
   "cell_type": "code",
   "execution_count": 28,
   "id": "8c3d6442-be23-48bc-8a1a-83a1425d6f42",
   "metadata": {},
   "outputs": [],
   "source": [
    "mag = np.linspace(7, 16, 100)\n",
    "mag_ref = 16\n",
    "exp_ref = 5 # sec\n",
    "exp_min = 1 # sec\n",
    "exp = np.maximum(exp_ref * 10**((mag - mag_ref) / 2.5), exp_min)"
   ]
  },
  {
   "cell_type": "code",
   "execution_count": 29,
   "id": "99f34ff1-0c7c-4e3f-9cca-b2b5b7d9b00d",
   "metadata": {},
   "outputs": [
    {
     "data": {
      "image/png": "[encoded data removed]",
      "text/plain": [
       "<Figure size 640x480 with 1 Axes>"
      ]
     },
     "metadata": {},
     "output_type": "display_data"
    }
   ],
   "source": [
    "plt.plot(mag, exp)\n",
    "plt.xlabel('magnitude')\n",
    "plt.ylabel('exposure time (s)');"
   ]
  },
  {
   "cell_type": "markdown",
   "id": "6e0051df-9380-4f11-ab78-2ac934007b29",
   "metadata": {},
   "source": [
    "## Class implementation"
   ]
  },
  {
   "cell_type": "markdown",
   "id": "42b17e67-9378-486b-9171-90fc02299434",
   "metadata": {},
   "source": [
    "Create guide star selection class:"
   ]
  },
  {
   "cell_type": "code",
   "execution_count": 30,
   "id": "dd4e6b9f-06de-4937-b29f-27d3c035cbbe",
   "metadata": {},
   "outputs": [],
   "source": [
    "from guidestars import GuideStarWalopS, load_gaia"
   ]
  },
  {
   "cell_type": "code",
   "execution_count": 31,
   "id": "9c9c5a9d-0723-4bb4-ba59-45c8ed8d2263",
   "metadata": {},
   "outputs": [],
   "source": [
    "selector = GuideStarWalopS()"
   ]
  },
  {
   "cell_type": "markdown",
   "id": "16b1b20a-5e9a-48f5-923c-487ada6e6892",
   "metadata": {},
   "source": [
    "### Set, save, load parameters"
   ]
  },
  {
   "cell_type": "markdown",
   "id": "f49f5b7c-1efb-42d5-9935-cf32533cd1e4",
   "metadata": {},
   "source": [
    "Define parameters:"
   ]
  },
  {
   "cell_type": "code",
   "execution_count": 32,
   "id": "fdb7ba28-f5c5-4bcc-9ab1-03398f234ce7",
   "metadata": {},
   "outputs": [],
   "source": [
    "scale_arcmin = 0.23 # arcmin / mm\n",
    "scale = np.radians(scale_arcmin / 60) # rad / mm\n",
    "circle_radius = np.sqrt((180/2+15)**2*2) # mm\n",
    "circle_offset = 15 # mm\n",
    "field_size = 180 # mm\n",
    "cam_size = [6.4, 4.75] # mm\n",
    "guide_area = [(90, -55), (125, -55), (125, 60), (60, 125), (-55, 125), (-55, 90), (90, 90)] ## mm\n",
    "instr_rot = 0 # rad\n",
    "limit_arcmin = 1 # arcmin\n",
    "limit = limit_arcmin / scale_arcmin\n",
    "home_pos = (125, 125)\n",
    "scale_xy = 1 / scale # mm / rad\n",
    "n_min = 2\n",
    "n_max = 3"
   ]
  },
  {
   "cell_type": "code",
   "execution_count": 33,
   "id": "740816dd-0bae-4a2b-bfa9-0cea3cef8fa1",
   "metadata": {},
   "outputs": [],
   "source": [
    "selector.set_params(\n",
    "        circle_radius, circle_offset, field_size, cam_size, guide_area, home_pos, instr_rot=instr_rot, limit=limit, \n",
    "        scale=scale, scale_xy=scale_xy, n_min=n_min, n_max=n_max)"
   ]
  },
  {
   "cell_type": "markdown",
   "id": "67e2ba74-d8a7-4758-ac0d-f981a98eceab",
   "metadata": {},
   "source": [
    "Save/load parameters to/from JSON file:"
   ]
  },
  {
   "cell_type": "code",
   "execution_count": 34,
   "id": "d9345b33-ed4b-41ed-959f-409bebdaaa5c",
   "metadata": {},
   "outputs": [
    {
     "name": "stdout",
     "output_type": "stream",
     "text": [
      "Guide parameters saved in: guide_walop_s.json\n"
     ]
    }
   ],
   "source": [
    "selector.save_params('guide_walop_s.json')"
   ]
  },
  {
   "cell_type": "code",
   "execution_count": 35,
   "id": "a9ac6107-d9a3-4243-a008-cce4e9f84323",
   "metadata": {},
   "outputs": [
    {
     "name": "stdout",
     "output_type": "stream",
     "text": [
      "Parameters loaded from guide_walop_s.json.\n"
     ]
    }
   ],
   "source": [
    "selector.load_params('guide_walop_s.json')"
   ]
  },
  {
   "cell_type": "markdown",
   "id": "6e1e8398-aa85-47de-b5ed-8b293d0a669b",
   "metadata": {},
   "source": [
    "### Add stars"
   ]
  },
  {
   "cell_type": "markdown",
   "id": "15975374-3d69-48b2-9fd2-6ef9a32dece7",
   "metadata": {},
   "source": [
    "Load Gaia stars:"
   ]
  },
  {
   "cell_type": "code",
   "execution_count": 36,
   "id": "ba04d74e-6a57-423d-bc76-57c75c6476fd",
   "metadata": {},
   "outputs": [
    {
     "name": "stdout",
     "output_type": "stream",
     "text": [
      "Read VOTable 1/1..\n",
      "# stars: 419381\n"
     ]
    }
   ],
   "source": [
    "dir_in = 'gaia/'\n",
    "votable_files = 'gaia_g_mag12_b28.vot'\n",
    "\n",
    "gaia_ra, gaia_dec, gaia_mag = load_gaia(votable_files, dir_in, dec_uplim=1)\n",
    "gaia_coord = SkyCoord(gaia_ra, gaia_dec, unit='deg')\n",
    "\n",
    "print('# stars:', gaia_mag.shape[0])"
   ]
  },
  {
   "cell_type": "markdown",
   "id": "153536bc-478a-4334-91e9-c467bb8fa742",
   "metadata": {},
   "source": [
    "Add stars:"
   ]
  },
  {
   "cell_type": "code",
   "execution_count": 37,
   "id": "94b70771-9e36-4726-8ff8-bd76f572d614",
   "metadata": {},
   "outputs": [
    {
     "name": "stdout",
     "output_type": "stream",
     "text": [
      "419381 candidate stars added.\n",
      "Magnitude range: 1.8 - 12.0\n"
     ]
    }
   ],
   "source": [
    "selector.set_stars(np.radians(gaia_ra), np.radians(gaia_dec), gaia_mag)"
   ]
  },
  {
   "cell_type": "markdown",
   "id": "c7d8c0b1-8633-469b-ac34-e7ec865e3f36",
   "metadata": {},
   "source": [
    "Provide field center coordinates to select guide stars:"
   ]
  },
  {
   "cell_type": "code",
   "execution_count": 38,
   "id": "87f3b7d5-7eec-4404-abb6-2c314e0b5dca",
   "metadata": {},
   "outputs": [],
   "source": [
    "field_center = SkyCoord(90, -60, unit='deg')\n",
    "guidestars, coord_rot_guidestars, coord_rot_guidearea, coord_rot_edge, coord_rot_circle, coord_rot_avoid = selector.select(\n",
    "    field_ra=field_center.ra.rad, field_dec=field_center.dec.rad, return_coord=True)"
   ]
  },
  {
   "cell_type": "markdown",
   "id": "368c9260-b70a-4fea-8882-de0c6cb30bde",
   "metadata": {},
   "source": [
    "Show selection:"
   ]
  },
  {
   "cell_type": "code",
   "execution_count": 39,
   "id": "f2b5efe9-3309-4bdd-8094-1f53a4a7ec1f",
   "metadata": {},
   "outputs": [
    {
     "data": {
      "image/png": "[encoded data removed]",
      "text/plain": [
       "<Figure size 640x480 with 1 Axes>"
      ]
     },
     "metadata": {},
     "output_type": "display_data"
    }
   ],
   "source": [
    "selector.visualize_selection(coord_rot_guidestars, coord_rot_guidearea, coord_rot_edge, coord_rot_circle, coord_rot_avoid);"
   ]
  },
  {
   "cell_type": "code",
   "execution_count": 40,
   "id": "d39a5f7c-9b7c-4db1-bec8-378de827f953",
   "metadata": {},
   "outputs": [
    {
     "data": {
      "text/plain": [
       "[{'guidestar_ra': 1.585535309456856,\n",
       "  'guidestar_dec': -1.0493027032468438,\n",
       "  'guidestar_mag': 11.140527,\n",
       "  'cam_pos_x': 7.726661465246277,\n",
       "  'cam_pos_y': 157.07306298705294},\n",
       " {'guidestar_ra': 1.5824417212602868,\n",
       "  'guidestar_dec': -1.0431734469465221,\n",
       "  'guidestar_mag': 11.464241,\n",
       "  'cam_pos_x': 29.916837484688724,\n",
       "  'cam_pos_y': 65.2216347925841},\n",
       " {'guidestar_ra': 1.5727135743352825,\n",
       "  'guidestar_dec': -1.0395099503261083,\n",
       "  'guidestar_mag': 11.836547,\n",
       "  'cam_pos_x': 103.08084209233567,\n",
       "  'cam_pos_y': 10.098279067915671}]"
      ]
     },
     "execution_count": 40,
     "metadata": {},
     "output_type": "execute_result"
    }
   ],
   "source": [
    "guidestars"
   ]
  },
  {
   "cell_type": "markdown",
   "id": "52210d59-7ccb-47c8-a858-1df2a0436d2b",
   "metadata": {},
   "source": [
    "### Test different instrument orientation"
   ]
  },
  {
   "cell_type": "markdown",
   "id": "9834b825-543b-4782-9395-fdb011af7099",
   "metadata": {},
   "source": [
    "Above we assume the instrument is mounted such that the guide area is located North and East of the science field. In the following we assume the instrument is tilted by 90 degrees clockwise, such that the guide area is located East and South of the science field:"
   ]
  },
  {
   "cell_type": "code",
   "execution_count": 41,
   "id": "3200289b-75d8-4681-8fc4-9da5525b08b8",
   "metadata": {},
   "outputs": [],
   "source": [
    "selector.set_params(\n",
    "        circle_radius, circle_offset, field_size, cam_size, guide_area, home_pos, instr_rot=np.pi/2, limit=limit, scale=scale, \n",
    "        scale_xy=scale_xy, n_min=n_min, n_max=n_max)"
   ]
  },
  {
   "cell_type": "code",
   "execution_count": 42,
   "id": "d874cd29-65f5-4c9e-97c9-4ebf6080bb0f",
   "metadata": {},
   "outputs": [],
   "source": [
    "field_center = SkyCoord(90, -60, unit='deg')\n",
    "guidestars, coord_rot_guidestars, coord_rot_guidearea, coord_rot_edge, coord_rot_circle, coord_rot_avoid = selector.select(\n",
    "    field_ra=field_center.ra.rad, field_dec=field_center.dec.rad, return_coord=True)"
   ]
  },
  {
   "cell_type": "code",
   "execution_count": 43,
   "id": "4eed5b9f-777d-4f89-9a2c-35a79cc76974",
   "metadata": {},
   "outputs": [
    {
     "data": {
      "image/png": "[encoded data removed]",
      "text/plain": [
       "<Figure size 640x480 with 1 Axes>"
      ]
     },
     "metadata": {},
     "output_type": "display_data"
    }
   ],
   "source": [
    "selector.visualize_selection(coord_rot_guidestars, coord_rot_guidearea, coord_rot_edge, coord_rot_circle, coord_rot_avoid);"
   ]
  },
  {
   "cell_type": "markdown",
   "id": "2f2070cf-ab43-4d74-b53e-e366514b2b30",
   "metadata": {},
   "source": [
    "### Calculate exposure times "
   ]
  },
  {
   "cell_type": "markdown",
   "id": "d4a83b06-f402-45b3-8506-75854757b6d9",
   "metadata": {},
   "source": [
    "We implement the magnitude-to-exposure time function in a lambda function and hand it to the `select()` method. Then it will be automatically applied to each guidestar:"
   ]
  },
  {
   "cell_type": "code",
   "execution_count": 44,
   "id": "fd529fd8-ed5e-4b4e-8d5a-d21f064aeee9",
   "metadata": {},
   "outputs": [],
   "source": [
    "mag_ref = 16\n",
    "exp_ref = 5 # sec\n",
    "exp_min = 1 # sec\n",
    "mag_to_exp = lambda mag: np.maximum(exp_ref * 10**((mag - mag_ref) / 2.5), exp_min)"
   ]
  },
  {
   "cell_type": "code",
   "execution_count": 45,
   "id": "21743069-d8f7-464c-858b-a4f109537d52",
   "metadata": {},
   "outputs": [
    {
     "data": {
      "text/plain": [
       "[{'guidestar_ra': 1.5731277710022162,\n",
       "  'guidestar_dec': -1.0530685723159916,\n",
       "  'guidestar_mag': 10.542655,\n",
       "  'cam_pos_x': 7.24179437056812,\n",
       "  'cam_pos_y': 100.1773582781302,\n",
       "  'exp': 1.0},\n",
       " {'guidestar_ra': 1.585535309456856,\n",
       "  'guidestar_dec': -1.0493027032468438,\n",
       "  'guidestar_mag': 11.140527,\n",
       "  'cam_pos_x': 62.925835014874394,\n",
       "  'cam_pos_y': 7.7271686797701085,\n",
       "  'exp': 1.0},\n",
       " {'guidestar_ra': 1.5824417212602868,\n",
       "  'guidestar_dec': -1.0431734469465221,\n",
       "  'guidestar_mag': 11.464241,\n",
       "  'cam_pos_x': -93758.26447031958,\n",
       "  'cam_pos_y': 29.91719686925884,\n",
       "  'exp': 1.0}]"
      ]
     },
     "execution_count": 45,
     "metadata": {},
     "output_type": "execute_result"
    }
   ],
   "source": [
    "guidestars = selector.select(field_ra=field_center.ra.rad, field_dec=field_center.dec.rad, mag_to_exp=mag_to_exp)\n",
    "guidestars"
   ]
  },
  {
   "cell_type": "markdown",
   "id": "c8d825a9-edf3-4fa6-b58d-a9a651eb2ede",
   "metadata": {},
   "source": [
    "### Select guide stars for field grid"
   ]
  },
  {
   "cell_type": "markdown",
   "id": "27280a5e-7bf8-402b-a6a8-f51c081d0449",
   "metadata": {},
   "source": [
    "Create Southern field grid:"
   ]
  },
  {
   "cell_type": "code",
   "execution_count": 46,
   "id": "28702459-579e-4db2-a6ad-dbc309cd50bc",
   "metadata": {},
   "outputs": [
    {
     "name": "stdout",
     "output_type": "stream",
     "text": [
      "Create fields..\n",
      "    Done                                                    \n",
      "Final number of fields: 547\n",
      "Grid parameters loaded from grid_test_s.json.\n"
     ]
    }
   ],
   "source": [
    "grid = FieldGridIsoLat(verbose=1)\n",
    "grid.load_params('grid_test_s.json')"
   ]
  },
  {
   "cell_type": "code",
   "execution_count": 47,
   "id": "00171b54-6cdc-4ee9-9e0b-7e1ede29829b",
   "metadata": {},
   "outputs": [
    {
     "name": "stdout",
     "output_type": "stream",
     "text": [
      "Iterate through field grid..\n",
      "  done.                             \n",
      "\n",
      "WARNING: Not all fields have the required minimum number of guide stars (2) available.\n",
      "\n",
      "Results:\n",
      "--------------------------------------------\n",
      "Guide stars selected:           1242\n",
      "Fields without guide stars:       55 (10.1%)\n",
      "--------------------------------------------\n",
      "Median number of field stars:      3\n",
      "Mean number of field stars:        2\n",
      "Max number of field stars:         3\n"
     ]
    }
   ],
   "source": [
    "guidestars = selector.select(fieldgrid=grid)"
   ]
  },
  {
   "cell_type": "code",
   "execution_count": 48,
   "id": "7249883b-3a80-4e2c-9ff6-09f5b4e2538d",
   "metadata": {},
   "outputs": [
    {
     "name": "stdout",
     "output_type": "stream",
     "text": [
      "Results:\n",
      "--------------------------------------------\n",
      "Guide stars selected:           1242\n",
      "Fields without guide stars:       55 (10.1%)\n",
      "--------------------------------------------\n",
      "Median number of field stars:      3\n",
      "Mean number of field stars:        2\n",
      "Max number of field stars:         3\n",
      "--------------------------------------------\n",
      "No. of guide stars: No. of fields\n",
      " 0:  55\n",
      " 1:  72\n",
      " 2:  90\n",
      " 3: 330\n",
      "--------------------------------------------\n"
     ]
    }
   ],
   "source": [
    "selector.check_results(verbose=2)"
   ]
  },
  {
   "cell_type": "markdown",
   "id": "ffdf648a-ac83-4597-9019-54b6b8244d8d",
   "metadata": {},
   "source": [
    "### Add higher magnitude stars"
   ]
  },
  {
   "cell_type": "markdown",
   "id": "1624b0f1-ca5e-4201-93cf-028540063237",
   "metadata": {},
   "source": [
    "Add stars with higher magnitudes and automatically update guide collections for fields, where not enough are available yet:"
   ]
  },
  {
   "cell_type": "code",
   "execution_count": 49,
   "id": "4da2b257-d5c2-437b-a8a7-b0ce60cce1df",
   "metadata": {},
   "outputs": [
    {
     "name": "stdout",
     "output_type": "stream",
     "text": [
      "Read VOTable 1/1..\n",
      "# stars: 478881\n"
     ]
    }
   ],
   "source": [
    "dir_in = 'gaia/'\n",
    "votable_files = 'gaia_g_mag12-13_b28.vot'\n",
    "\n",
    "gaia_ra, gaia_dec, gaia_mag = load_gaia(votable_files, dir_in, dec_uplim=1)\n",
    "print('# stars:', gaia_mag.shape[0])"
   ]
  },
  {
   "cell_type": "markdown",
   "id": "8eb52ec9-1be8-4eb1-86a1-871b03ce01c5",
   "metadata": {},
   "source": [
    "Add stars:"
   ]
  },
  {
   "cell_type": "code",
   "execution_count": 50,
   "id": "5da2ebda-2f00-433d-a59c-f157846c716a",
   "metadata": {},
   "outputs": [
    {
     "name": "stdout",
     "output_type": "stream",
     "text": [
      "Overwriting previous stars..\n",
      "478881 candidate stars added.\n",
      "Magnitude range: 12.0 - 13.0\n",
      "\n",
      "127 field do not have enough guide stars. Search for more..\n",
      "  done.                             \n",
      "\n",
      "WARNING: Not all fields have the required minimum number of guide stars (2) available.\n",
      "\n",
      "Results:\n",
      "--------------------------------------------\n",
      "Guide stars selected:           1348\n",
      "Fields without guide stars:       35 (6.4%)\n",
      "--------------------------------------------\n",
      "Median number of field stars:      3\n",
      "Mean number of field stars:        2\n",
      "Max number of field stars:         3\n"
     ]
    }
   ],
   "source": [
    "selector.set_stars(np.radians(gaia_ra), np.radians(gaia_dec), gaia_mag)"
   ]
  },
  {
   "cell_type": "code",
   "execution_count": 51,
   "id": "9cc45ea3-e562-4ff8-a1f4-2df2d5996f77",
   "metadata": {},
   "outputs": [
    {
     "name": "stdout",
     "output_type": "stream",
     "text": [
      "Results:\n",
      "--------------------------------------------\n",
      "Guide stars selected:           1348\n",
      "Fields without guide stars:       35 (6.4%)\n",
      "--------------------------------------------\n",
      "Median number of field stars:      3\n",
      "Mean number of field stars:        2\n",
      "Max number of field stars:         3\n",
      "--------------------------------------------\n",
      "No. of guide stars: No. of fields\n",
      " 0:  35\n",
      " 1:   6\n",
      " 2: 176\n",
      " 3: 330\n",
      "--------------------------------------------\n"
     ]
    }
   ],
   "source": [
    "selector.check_results(verbose=2)"
   ]
  },
  {
   "cell_type": "markdown",
   "id": "6162ba54-3493-4beb-a9d9-cae91b298553",
   "metadata": {},
   "source": [
    "### Avoid bright stars"
   ]
  },
  {
   "cell_type": "markdown",
   "id": "9384bd8e-741a-43d2-99e1-364f191f8bfe",
   "metadata": {},
   "source": [
    "Create class instance add load parameters:"
   ]
  },
  {
   "cell_type": "code",
   "execution_count": 52,
   "id": "438fdff6-0ca4-45ea-a79f-23f2832d726d",
   "metadata": {},
   "outputs": [],
   "source": [
    "selector = GuideStarWalopS()"
   ]
  },
  {
   "cell_type": "code",
   "execution_count": 53,
   "id": "23fefdc7-950e-4da4-88ca-1be047040c34",
   "metadata": {},
   "outputs": [
    {
     "name": "stdout",
     "output_type": "stream",
     "text": [
      "Parameters loaded from guide_walop_s.json.\n"
     ]
    }
   ],
   "source": [
    "selector.load_params('guide_walop_s.json')"
   ]
  },
  {
   "cell_type": "markdown",
   "id": "ef8a6666-3b28-4213-af20-1c2ddbf80f6e",
   "metadata": {},
   "source": [
    "Load Gaia stars:"
   ]
  },
  {
   "cell_type": "code",
   "execution_count": 54,
   "id": "1e87109d-a9f0-402d-b923-63d776a2cd5b",
   "metadata": {},
   "outputs": [
    {
     "name": "stdout",
     "output_type": "stream",
     "text": [
      "Read VOTable 1/1..\n",
      "# stars: 419381\n"
     ]
    }
   ],
   "source": [
    "dir_in = 'gaia/'\n",
    "votable_files = 'gaia_g_mag12_b28.vot'\n",
    "\n",
    "gaia_ra, gaia_dec, gaia_mag = load_gaia(votable_files, dir_in, dec_uplim=1)\n",
    "gaia_coord = SkyCoord(gaia_ra, gaia_dec, unit='deg')\n",
    "\n",
    "print('# stars:', gaia_mag.shape[0])"
   ]
  },
  {
   "cell_type": "markdown",
   "id": "5ea9b1b5-9631-46f2-9321-bcd99e5cfb06",
   "metadata": {},
   "source": [
    "Separate bright stars:"
   ]
  },
  {
   "cell_type": "code",
   "execution_count": 55,
   "id": "43163e9d-5ef5-4fda-95cf-1196b16fdc1a",
   "metadata": {},
   "outputs": [
    {
     "name": "stdout",
     "output_type": "stream",
     "text": [
      "4383 bright stars separated.\n"
     ]
    }
   ],
   "source": [
    "gaia_mag_limit = 7\n",
    "sel = gaia_mag < gaia_mag_limit\n",
    "gaia_bright_ra = gaia_ra[sel]\n",
    "gaia_bright_dec = gaia_dec[sel]\n",
    "gaia_ra = gaia_ra[~sel]\n",
    "gaia_dec = gaia_dec[~sel]\n",
    "gaia_coord = gaia_coord[~sel]\n",
    "gaia_mag = gaia_mag[~sel]\n",
    "print(f'{np.sum(sel)} bright stars separated.')"
   ]
  },
  {
   "cell_type": "markdown",
   "id": "03b8ef03-4dcd-43d1-81f7-02839e8add98",
   "metadata": {},
   "source": [
    "Add bright stars that should be avoided:"
   ]
  },
  {
   "cell_type": "code",
   "execution_count": 56,
   "id": "197eeda0-1359-4cd8-8bf2-0115454559e1",
   "metadata": {},
   "outputs": [
    {
     "name": "stdout",
     "output_type": "stream",
     "text": [
      "4383 coordinates of bright stars set that will be avoided in the guide camera.\n"
     ]
    }
   ],
   "source": [
    "selector.set_stars_to_avoid(np.radians(gaia_bright_ra), np.radians(gaia_bright_dec))"
   ]
  },
  {
   "cell_type": "markdown",
   "id": "c42dc49a-907a-4520-ade0-686a636a5026",
   "metadata": {},
   "source": [
    "Add stars:"
   ]
  },
  {
   "cell_type": "code",
   "execution_count": 57,
   "id": "20681aea-1601-4c61-b738-72e891f40a71",
   "metadata": {},
   "outputs": [
    {
     "name": "stdout",
     "output_type": "stream",
     "text": [
      "414998 candidate stars added.\n",
      "Magnitude range: 7.0 - 12.0\n"
     ]
    }
   ],
   "source": [
    "selector.set_stars(np.radians(gaia_ra), np.radians(gaia_dec), gaia_mag)"
   ]
  },
  {
   "cell_type": "markdown",
   "id": "a6d92729-e7c5-4063-aad3-6c58182324db",
   "metadata": {},
   "source": [
    "Demonstrate on a specific sky location:"
   ]
  },
  {
   "cell_type": "code",
   "execution_count": 58,
   "id": "09e1201a-4f5c-4b73-a89e-60cc6c77ff74",
   "metadata": {},
   "outputs": [],
   "source": [
    "field_center = SkyCoord(90, -60, unit='deg')\n",
    "guidestars, coord_rot_guidestars, coord_rot_guidearea, coord_rot_edge, coord_rot_circle, coord_rot_avoid = selector.select(\n",
    "    field_ra=field_center.ra.rad, field_dec=field_center.dec.rad, return_coord=True)"
   ]
  },
  {
   "cell_type": "code",
   "execution_count": 59,
   "id": "f85837a0-1452-4435-a089-f656802b48d8",
   "metadata": {},
   "outputs": [
    {
     "data": {
      "image/png": "[encoded data removed]",
      "text/plain": [
       "<Figure size 640x480 with 1 Axes>"
      ]
     },
     "metadata": {},
     "output_type": "display_data"
    }
   ],
   "source": [
    "selector.visualize_selection(coord_rot_guidestars, coord_rot_guidearea, coord_rot_edge, coord_rot_circle, coord_rot_avoid);"
   ]
  },
  {
   "cell_type": "markdown",
   "id": "de37dce9-fd78-451c-81d9-cf993e96e74a",
   "metadata": {},
   "source": [
    "Run for field grid:"
   ]
  },
  {
   "cell_type": "code",
   "execution_count": 60,
   "id": "759dc087-c22c-448c-bbd8-0f357899fbe9",
   "metadata": {},
   "outputs": [
    {
     "name": "stdout",
     "output_type": "stream",
     "text": [
      "Create fields..\n",
      "    Done                                                    \n",
      "Final number of fields: 547\n",
      "Grid parameters loaded from grid_test_s.json.\n"
     ]
    }
   ],
   "source": [
    "grid = FieldGridIsoLat(verbose=1)\n",
    "grid.load_params('grid_test_s.json')"
   ]
  },
  {
   "cell_type": "code",
   "execution_count": 61,
   "id": "6f6b77b8-10eb-41ca-9182-c82fb4a7b365",
   "metadata": {},
   "outputs": [
    {
     "name": "stdout",
     "output_type": "stream",
     "text": [
      "Iterate through field grid..\n",
      "  done.                             \n",
      "\n",
      "WARNING: Not all fields have the required minimum number of guide stars (2) available.\n",
      "\n",
      "Results:\n",
      "--------------------------------------------\n",
      "Guide stars selected:           1275\n",
      "Fields without guide stars:       53 (9.7%)\n",
      "--------------------------------------------\n",
      "Median number of field stars:      3\n",
      "Mean number of field stars:        2\n",
      "Max number of field stars:         3\n"
     ]
    }
   ],
   "source": [
    "guidestars = selector.select(fieldgrid=grid)"
   ]
  },
  {
   "cell_type": "code",
   "execution_count": 62,
   "id": "79483d89-06e0-4c69-bbdc-05d9581f68c6",
   "metadata": {},
   "outputs": [
    {
     "name": "stdout",
     "output_type": "stream",
     "text": [
      "Results:\n",
      "--------------------------------------------\n",
      "Guide stars selected:           1275\n",
      "Fields without guide stars:       53 (9.7%)\n",
      "--------------------------------------------\n",
      "Median number of field stars:      3\n",
      "Mean number of field stars:        2\n",
      "Max number of field stars:         3\n",
      "--------------------------------------------\n",
      "No. of guide stars: No. of fields\n",
      " 0:  53\n",
      " 1:  52\n",
      " 2: 103\n",
      " 3: 339\n",
      "--------------------------------------------\n"
     ]
    }
   ],
   "source": [
    "selector.check_results(verbose=2)"
   ]
  },
  {
   "cell_type": "markdown",
   "id": "3e6427a2-1461-4e4f-bc03-024e011c1639",
   "metadata": {},
   "source": [
    "Add stars with higher magnitudes and automatically update guide collections for fields, where not enough are available yet:"
   ]
  },
  {
   "cell_type": "code",
   "execution_count": 63,
   "id": "e52d7ce2-0098-4785-8a5c-49d7c7a3e32b",
   "metadata": {},
   "outputs": [
    {
     "name": "stdout",
     "output_type": "stream",
     "text": [
      "Read VOTable 1/1..\n",
      "# stars: 478881\n"
     ]
    }
   ],
   "source": [
    "dir_in = 'gaia/'\n",
    "votable_files = 'gaia_g_mag12-13_b28.vot'\n",
    "\n",
    "gaia_ra, gaia_dec, gaia_mag = load_gaia(votable_files, dir_in, dec_uplim=1)\n",
    "\n",
    "print('# stars:', gaia_mag.shape[0])"
   ]
  },
  {
   "cell_type": "markdown",
   "id": "eacaa8d6-1cf7-469c-b376-3909f1366d01",
   "metadata": {},
   "source": [
    "Add stars:"
   ]
  },
  {
   "cell_type": "code",
   "execution_count": 64,
   "id": "b1ae83f7-2b31-4866-beca-d273beae55c0",
   "metadata": {},
   "outputs": [
    {
     "name": "stdout",
     "output_type": "stream",
     "text": [
      "Overwriting previous stars..\n",
      "478881 candidate stars added.\n",
      "Magnitude range: 12.0 - 13.0\n",
      "\n",
      "105 field do not have enough guide stars. Search for more..\n",
      "  done.                             \n",
      "\n",
      "WARNING: Not all fields have the required minimum number of guide stars (2) available.\n",
      "\n",
      "Results:\n",
      "--------------------------------------------\n",
      "Guide stars selected:           1354\n",
      "Fields without guide stars:       35 (6.4%)\n",
      "--------------------------------------------\n",
      "Median number of field stars:      3\n",
      "Mean number of field stars:        2\n",
      "Max number of field stars:         3\n"
     ]
    }
   ],
   "source": [
    "selector.set_stars(np.radians(gaia_ra), np.radians(gaia_dec), gaia_mag)"
   ]
  },
  {
   "cell_type": "code",
   "execution_count": 65,
   "id": "9bc08f4b-056b-4804-bdb1-ca3fb5988c2d",
   "metadata": {},
   "outputs": [
    {
     "name": "stdout",
     "output_type": "stream",
     "text": [
      "Results:\n",
      "--------------------------------------------\n",
      "Guide stars selected:           1354\n",
      "Fields without guide stars:       35 (6.4%)\n",
      "--------------------------------------------\n",
      "Median number of field stars:      3\n",
      "Mean number of field stars:        2\n",
      "Max number of field stars:         3\n",
      "--------------------------------------------\n",
      "No. of guide stars: No. of fields\n",
      " 0:  35\n",
      " 1:   9\n",
      " 2: 164\n",
      " 3: 339\n",
      "--------------------------------------------\n"
     ]
    }
   ],
   "source": [
    "selector.check_results(verbose=2)"
   ]
  },
  {
   "cell_type": "code",
   "execution_count": null,
   "id": "a8976b81-9f02-492a-8f23-dd14e0c3bd43",
   "metadata": {},
   "outputs": [],
   "source": []
  }
 ],
 "metadata": {
  "kernelspec": {
   "display_name": "Python 3 (ipykernel)",
   "language": "python",
   "name": "python3"
  },
  "language_info": {
   "codemirror_mode": {
    "name": "ipython",
    "version": 3
   },
   "file_extension": ".py",
   "mimetype": "text/x-python",
   "name": "python",
   "nbconvert_exporter": "python",
   "pygments_lexer": "ipython3",
   "version": "3.9.18"
  },
  "toc-autonumbering": true
 },
 "nbformat": 4,
 "nbformat_minor": 5
}
